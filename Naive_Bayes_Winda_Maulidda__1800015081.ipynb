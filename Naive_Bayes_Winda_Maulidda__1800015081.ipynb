{
  "nbformat": 4,
  "nbformat_minor": 0,
  "metadata": {
    "colab": {
      "name": "Naive_Bayes_Winda Maulidda _1800015081.ipynb",
      "provenance": [],
      "collapsed_sections": [],
      "toc_visible": true,
      "include_colab_link": true
    },
    "kernelspec": {
      "name": "python3",
      "display_name": "Python 3"
    },
    "language_info": {
      "name": "python"
    }
  },
  "cells": [
    {
      "cell_type": "markdown",
      "metadata": {
        "id": "view-in-github",
        "colab_type": "text"
      },
      "source": [
        "<a href=\"https://colab.research.google.com/github/windamaulidda/PSDS_KelasMahir_PejuangData3.0/blob/main/Naive_Bayes_Winda_Maulidda__1800015081.ipynb\" target=\"_parent\"><img src=\"https://colab.research.google.com/assets/colab-badge.svg\" alt=\"Open In Colab\"/></a>"
      ]
    },
    {
      "cell_type": "markdown",
      "metadata": {
        "id": "uNXtWb--9jVO"
      },
      "source": [
        "##**Pembuka**\n",
        "\n",
        "Assalamu'alaikum warahmatullahi wabarakatuh. Puji syukur kehadirat Allah Subhana Wata'ala atas limpahan Rahmat dan HidayahNya kepada kita semua. Sholawat serta salam senantiasa tercurah limpahkan kepada baginda Muhammad Rasulullah Salallahualaihiwassalam.\n",
        "\n",
        "Halo para Pejuang Data. Selamat berjumpa di pertemuan keenam Program Training Algoritma Machine Learning Kelas Mahir.\n",
        "\n",
        "Pada pertemuan ini kamu akan belajar:\n",
        "\n",
        "* Algoritma Naive Bayes\n",
        "* Contoh Perhitungan Manual Algoritma Naive Bayes\n",
        "* Naive Bayes Python From Scratch"
      ]
    },
    {
      "cell_type": "markdown",
      "metadata": {
        "id": "dx2-tnsw959L"
      },
      "source": [
        "##**Import Modul**"
      ]
    },
    {
      "cell_type": "code",
      "metadata": {
        "id": "R7CHsgOZ9hHI"
      },
      "source": [
        "import pandas as pd\n",
        "import numpy as np\n",
        "import matplotlib.pyplot as plt\n",
        "import seaborn as sns\n",
        "sns.set_style(\"darkgrid\")"
      ],
      "execution_count": 1,
      "outputs": []
    },
    {
      "cell_type": "markdown",
      "metadata": {
        "id": "8GvL8MpB-J3V"
      },
      "source": [
        "##**Model Klasifikasi Naive Bayes**\n",
        "\n",
        "Model klasifikasi Naive Bayes merupakan model klasifikasi dengan dasar gagasan Teorema Bayes dengan asumsi semua variabel prediktornya(X) adalah saling independen. Model Naive Bayes mudah untuk dibangun. Model ini tidak memiliki estimasi parameter iteratif yang kompleks yang membuatnya cocok untuk data yanng sangat besar. Terlepas dari kesederhanaannya, model klasifikasi inisering kali bekerja dengan sangat baik dan banyak digunakan karena sering mengungguli metode klasifikasi yang lebih canggih. Contohnya pada klasifikasi sentimen pada dataset teks, klasifikasi email spam, dan klasifikasi dokumen."
      ]
    },
    {
      "cell_type": "markdown",
      "metadata": {
        "id": "X2mPXRtY-RkA"
      },
      "source": [
        "##**Algoritma Naive Bayes**\n",
        "\n",
        "Teorema Bayes menyajikan cara untuk menghitung probabilitas bersyarat(posterior) $P(Y=y\\mid X=(x_1, x_2,...,x_n))$, dari $P(Y=y), P(X=(x_1,x_2,...,x_3))$, dan $P(X=(x_1,x_2,...,x_3)\\mid Y=y)$. Model klasifikasi Naive Bayes mengasumsikan bahwa pengaruh suatu variabel prediktor $x$ pada kelas tertentu $c$ tidak bergantung pada nilai-nilai prediktor lainnya. Asumsi ini disebut sebagai class conditional independence.\n",
        "\n",
        "![image](http://1.bp.blogspot.com/-qc4GjIJ3JA8/VarJj8PhnWI/AAAAAAAAASY/BsQrln7reFk/s1600/Bayes_rule.png)\n",
        "\n",
        "* $P(Y\\mid X)$ adalah probabilitas bersyarat (posterior) dari kelas (target) dengan suatu prediktor yang diketahui (sttribut).\n",
        "* $P(Y)$ adalah probabilitas prior dari kelas.\n",
        "* $P(X\\mid Y)$ adalah likelihood yang merupakan probabilitas prediktor dengan kelas yang diketahui.\n",
        "* $P(X)$ adalah probabilitas prior dari prediktor(atribut)."
      ]
    },
    {
      "cell_type": "markdown",
      "metadata": {
        "id": "GIJFTq9T-h2m"
      },
      "source": [
        "##**Penghitungan Manual Metode Klasifikasi Naive Bayes Data Categorical**\n",
        "\n",
        "Misal kita memiliki dataset sebagai berikut:"
      ]
    },
    {
      "cell_type": "code",
      "metadata": {
        "colab": {
          "base_uri": "https://localhost:8080/",
          "height": 359
        },
        "id": "OrmmaBW--rEB",
        "outputId": "6c00eb4c-c947-440d-b25c-a47186941aff"
      },
      "source": [
        "df = pd.DataFrame({'x_1':[0,0,1,0,2,1,0,2,2,1],\n",
        "                   'x_2':[0,1,2,0,2,1,2,0,1,0],\n",
        "                   'y':[0,1,1,1,0,0,1,0,0,0]})\n",
        "df"
      ],
      "execution_count": 2,
      "outputs": [
        {
          "output_type": "execute_result",
          "data": {
            "text/html": [
              "<div>\n",
              "<style scoped>\n",
              "    .dataframe tbody tr th:only-of-type {\n",
              "        vertical-align: middle;\n",
              "    }\n",
              "\n",
              "    .dataframe tbody tr th {\n",
              "        vertical-align: top;\n",
              "    }\n",
              "\n",
              "    .dataframe thead th {\n",
              "        text-align: right;\n",
              "    }\n",
              "</style>\n",
              "<table border=\"1\" class=\"dataframe\">\n",
              "  <thead>\n",
              "    <tr style=\"text-align: right;\">\n",
              "      <th></th>\n",
              "      <th>x_1</th>\n",
              "      <th>x_2</th>\n",
              "      <th>y</th>\n",
              "    </tr>\n",
              "  </thead>\n",
              "  <tbody>\n",
              "    <tr>\n",
              "      <th>0</th>\n",
              "      <td>0</td>\n",
              "      <td>0</td>\n",
              "      <td>0</td>\n",
              "    </tr>\n",
              "    <tr>\n",
              "      <th>1</th>\n",
              "      <td>0</td>\n",
              "      <td>1</td>\n",
              "      <td>1</td>\n",
              "    </tr>\n",
              "    <tr>\n",
              "      <th>2</th>\n",
              "      <td>1</td>\n",
              "      <td>2</td>\n",
              "      <td>1</td>\n",
              "    </tr>\n",
              "    <tr>\n",
              "      <th>3</th>\n",
              "      <td>0</td>\n",
              "      <td>0</td>\n",
              "      <td>1</td>\n",
              "    </tr>\n",
              "    <tr>\n",
              "      <th>4</th>\n",
              "      <td>2</td>\n",
              "      <td>2</td>\n",
              "      <td>0</td>\n",
              "    </tr>\n",
              "    <tr>\n",
              "      <th>5</th>\n",
              "      <td>1</td>\n",
              "      <td>1</td>\n",
              "      <td>0</td>\n",
              "    </tr>\n",
              "    <tr>\n",
              "      <th>6</th>\n",
              "      <td>0</td>\n",
              "      <td>2</td>\n",
              "      <td>1</td>\n",
              "    </tr>\n",
              "    <tr>\n",
              "      <th>7</th>\n",
              "      <td>2</td>\n",
              "      <td>0</td>\n",
              "      <td>0</td>\n",
              "    </tr>\n",
              "    <tr>\n",
              "      <th>8</th>\n",
              "      <td>2</td>\n",
              "      <td>1</td>\n",
              "      <td>0</td>\n",
              "    </tr>\n",
              "    <tr>\n",
              "      <th>9</th>\n",
              "      <td>1</td>\n",
              "      <td>0</td>\n",
              "      <td>0</td>\n",
              "    </tr>\n",
              "  </tbody>\n",
              "</table>\n",
              "</div>"
            ],
            "text/plain": [
              "   x_1  x_2  y\n",
              "0    0    0  0\n",
              "1    0    1  1\n",
              "2    1    2  1\n",
              "3    0    0  1\n",
              "4    2    2  0\n",
              "5    1    1  0\n",
              "6    0    2  1\n",
              "7    2    0  0\n",
              "8    2    1  0\n",
              "9    1    0  0"
            ]
          },
          "metadata": {},
          "execution_count": 2
        }
      ]
    },
    {
      "cell_type": "markdown",
      "metadata": {
        "id": "_uIMPKZ-A5XY"
      },
      "source": [
        "Misal kita akan menghitung $P(Y=0\\mid X=(0, 2))$ dan $P(Y=1\\mid X=(0, 2))$\n",
        "\n",
        "Langkah-langkahnya adalah sebagai berikut:\n",
        "\n",
        "1. Menghitung probabilitas prior\n",
        "2. Menghitung probabilitas likelihood\n",
        "3. Menghitung probabilitaslikelihood dan probabilitas prior\n",
        "\n",
        "Berikut contohnya:\n",
        "\n",
        "1. Menghitung probabilitas prior\n",
        "$$P(Y=0)=\\frac{Jumlah\\space Y=0}{Jumlah \\space Y=0+Jumlah\\space Y=1}=\\frac{6}{10}$$$$P(Y=1)=\\frac{Jumlah\\space Y=1}{Jumlah\\space Y=0+Jumlah\\space Y=1}=\\frac{4}{10}$$\n",
        "\n",
        "2. Menghitung probabilitas likelihood\n",
        "$$P(X=(0,2)\\mid Y=0)=\\frac{Jumlah\\space X=(0,2)}{Jumlah\\space Y = 0}=\\frac{0}{6}=0$$$$P(X=(0,2)\\mid Y=1)=\\frac{Jumlah\\space X=(0,2)}{Jumlah\\space Y = 1}=\\frac{1}{4}$$\n",
        "\n",
        " Cara lain adalah dengan menggunakan teorema Bayes:\n",
        "\n",
        "$$P(X=(0,2)\\mid Y=0)=P(X_1=0\\mid Y=0)*P(X_2=2\\mid Y=1)=\\frac{1}{6}*\\frac{1}{6}=\\frac{1}{36}$$$$P(X=(0,2)\\mid Y=1)=P(X_1=0\\mid Y=1)*P(X_2=2\\mid Y=1)=\\frac{3}{4}*\\frac{2}{4}=\\frac{6}{16}$$\n",
        "\n",
        "3. Mangalikan probab9ilitas likelihood dan probabilitas prior\n",
        "\n",
        " $P(Y=0\\mid X=(0,2))==&gt;\\frac{6}{10}*\\frac{6}{36}=\\frac{24}{160}=0.10$\n",
        "\n",
        " $P(Y=1\\mid X=(0,2))==&gt;\\frac{4}{10}*\\frac{6}{16}=\\frac{24}{160}=0.15$\n",
        "\n",
        "Dari hasil terakhir di atas diperoleh bahwa probabilitas muncul kelas y=1 dengan syarat x=(0,2) adalah yg lebih tinggi maka untuk input x=(0,2) hasil klasifikasinya adalah y=1"
      ]
    },
    {
      "cell_type": "markdown",
      "metadata": {
        "id": "NUs0NWlyCChb"
      },
      "source": [
        "##**Implementasi Pada Python**\n",
        "\n",
        "**Import Library**"
      ]
    },
    {
      "cell_type": "code",
      "metadata": {
        "id": "30TODblECMbd"
      },
      "source": [
        "import pandas as pd\n",
        "import numpy as np"
      ],
      "execution_count": 3,
      "outputs": []
    },
    {
      "cell_type": "markdown",
      "metadata": {
        "id": "aypn_51ZCSaJ"
      },
      "source": [
        "**DataFrame Input**"
      ]
    },
    {
      "cell_type": "code",
      "metadata": {
        "colab": {
          "base_uri": "https://localhost:8080/",
          "height": 359
        },
        "id": "sZek5t3QCU3a",
        "outputId": "976d825f-e544-45b5-9381-da2676697bd5"
      },
      "source": [
        "df = pd.DataFrame({'x_1':[0,0,1,0,2,1,0,2,2,1],\n",
        "                   'x_2':[0,1,2,0,2,1,2,0,1,0],\n",
        "                   'y':[0,1,1,1,0,0,1,0,0,0]})\n",
        "df"
      ],
      "execution_count": 4,
      "outputs": [
        {
          "output_type": "execute_result",
          "data": {
            "text/html": [
              "<div>\n",
              "<style scoped>\n",
              "    .dataframe tbody tr th:only-of-type {\n",
              "        vertical-align: middle;\n",
              "    }\n",
              "\n",
              "    .dataframe tbody tr th {\n",
              "        vertical-align: top;\n",
              "    }\n",
              "\n",
              "    .dataframe thead th {\n",
              "        text-align: right;\n",
              "    }\n",
              "</style>\n",
              "<table border=\"1\" class=\"dataframe\">\n",
              "  <thead>\n",
              "    <tr style=\"text-align: right;\">\n",
              "      <th></th>\n",
              "      <th>x_1</th>\n",
              "      <th>x_2</th>\n",
              "      <th>y</th>\n",
              "    </tr>\n",
              "  </thead>\n",
              "  <tbody>\n",
              "    <tr>\n",
              "      <th>0</th>\n",
              "      <td>0</td>\n",
              "      <td>0</td>\n",
              "      <td>0</td>\n",
              "    </tr>\n",
              "    <tr>\n",
              "      <th>1</th>\n",
              "      <td>0</td>\n",
              "      <td>1</td>\n",
              "      <td>1</td>\n",
              "    </tr>\n",
              "    <tr>\n",
              "      <th>2</th>\n",
              "      <td>1</td>\n",
              "      <td>2</td>\n",
              "      <td>1</td>\n",
              "    </tr>\n",
              "    <tr>\n",
              "      <th>3</th>\n",
              "      <td>0</td>\n",
              "      <td>0</td>\n",
              "      <td>1</td>\n",
              "    </tr>\n",
              "    <tr>\n",
              "      <th>4</th>\n",
              "      <td>2</td>\n",
              "      <td>2</td>\n",
              "      <td>0</td>\n",
              "    </tr>\n",
              "    <tr>\n",
              "      <th>5</th>\n",
              "      <td>1</td>\n",
              "      <td>1</td>\n",
              "      <td>0</td>\n",
              "    </tr>\n",
              "    <tr>\n",
              "      <th>6</th>\n",
              "      <td>0</td>\n",
              "      <td>2</td>\n",
              "      <td>1</td>\n",
              "    </tr>\n",
              "    <tr>\n",
              "      <th>7</th>\n",
              "      <td>2</td>\n",
              "      <td>0</td>\n",
              "      <td>0</td>\n",
              "    </tr>\n",
              "    <tr>\n",
              "      <th>8</th>\n",
              "      <td>2</td>\n",
              "      <td>1</td>\n",
              "      <td>0</td>\n",
              "    </tr>\n",
              "    <tr>\n",
              "      <th>9</th>\n",
              "      <td>1</td>\n",
              "      <td>0</td>\n",
              "      <td>0</td>\n",
              "    </tr>\n",
              "  </tbody>\n",
              "</table>\n",
              "</div>"
            ],
            "text/plain": [
              "   x_1  x_2  y\n",
              "0    0    0  0\n",
              "1    0    1  1\n",
              "2    1    2  1\n",
              "3    0    0  1\n",
              "4    2    2  0\n",
              "5    1    1  0\n",
              "6    0    2  1\n",
              "7    2    0  0\n",
              "8    2    1  0\n",
              "9    1    0  0"
            ]
          },
          "metadata": {},
          "execution_count": 4
        }
      ]
    },
    {
      "cell_type": "markdown",
      "metadata": {
        "id": "hl0qMyZiCfz9"
      },
      "source": [
        "**Naive Bayes untuk Data Categorical**"
      ]
    },
    {
      "cell_type": "code",
      "metadata": {
        "id": "xi7WsFvQCjPB"
      },
      "source": [
        "def prob_prior(df, Y):\n",
        "  label_kelas = sorted(list(df[Y].unique()))\n",
        "  prior = []\n",
        "  for i in label_kelas:\n",
        "    prior.append(len(df[df[Y]==i])/len(df))\n",
        "  return prior"
      ],
      "execution_count": 5,
      "outputs": []
    },
    {
      "cell_type": "code",
      "metadata": {
        "id": "7IjvGdnnCqP6"
      },
      "source": [
        "def likelihood_categorical(df, nama_var, nilai_var, Y, label):\n",
        "  feat = list(df.columns)\n",
        "  df = df[df[Y]==label]\n",
        "  p_x_dgsyrt_y = len(df[df[nama_var]==nilai_var]) / len(df)\n",
        "  return p_x_dgsyrt_y"
      ],
      "execution_count": 6,
      "outputs": []
    },
    {
      "cell_type": "code",
      "metadata": {
        "id": "1HceCa7aCtR3"
      },
      "source": [
        "def naive_bayes_categorical(df, X, Y):\n",
        "  # mengambil nama kolom\n",
        "  nama_kolom = list(df.columns)[:-1]\n",
        "  # menghitung prob prior\n",
        "  prior = prob_prior(df, Y)\n",
        "  Y_pred = []\n",
        "  # lopping pada setiap baris data\n",
        "  for x in X:\n",
        "    # menghitung likelihood\n",
        "    labels = sorted(list(df[Y].unique()))\n",
        "    likelihood = [1]*len(labels)\n",
        "    for j in range(len(labels)):\n",
        "      for i in range(len(nama_kolom)):\n",
        "         likelihood[j] *= likelihood_categorical(df, nama_kolom[i], x[i], Y, labels[j])\n",
        "    # menghitung posterior probability\n",
        "    post_prob = [1]*len(labels)\n",
        "    for j in range(len(labels)):\n",
        "      post_prob[j] = likelihood[j] * prior[j]\n",
        "    \n",
        "    Y_pred.append(np.argmax(post_prob))\n",
        "    \n",
        "  return np.array(Y_pred)"
      ],
      "execution_count": 7,
      "outputs": []
    },
    {
      "cell_type": "code",
      "metadata": {
        "id": "GrD0TnbfP34y"
      },
      "source": [
        "from sklearn.model_selection import train_test_split\n",
        "train, test = train_test_split(df, test_size=.3, random_state=41)"
      ],
      "execution_count": 8,
      "outputs": []
    },
    {
      "cell_type": "code",
      "metadata": {
        "id": "d5S4dzV6C0vq"
      },
      "source": [
        "X = df.iloc[:,:-1].values\n",
        "Y = df.iloc[:,-1].values\n",
        "Y_pred = naive_bayes_categorical(train, X=X, Y=\"y\")"
      ],
      "execution_count": 9,
      "outputs": []
    },
    {
      "cell_type": "code",
      "metadata": {
        "colab": {
          "base_uri": "https://localhost:8080/"
        },
        "id": "twHAFVNzEIIZ",
        "outputId": "237b5a3a-0f99-4573-a81f-86344bd3d310"
      },
      "source": [
        "X"
      ],
      "execution_count": 10,
      "outputs": [
        {
          "output_type": "execute_result",
          "data": {
            "text/plain": [
              "array([[0, 0],\n",
              "       [0, 1],\n",
              "       [1, 2],\n",
              "       [0, 0],\n",
              "       [2, 2],\n",
              "       [1, 1],\n",
              "       [0, 2],\n",
              "       [2, 0],\n",
              "       [2, 1],\n",
              "       [1, 0]])"
            ]
          },
          "metadata": {},
          "execution_count": 10
        }
      ]
    },
    {
      "cell_type": "code",
      "metadata": {
        "colab": {
          "base_uri": "https://localhost:8080/"
        },
        "id": "JLxh5giGEMit",
        "outputId": "494b8821-7576-4a4b-c82c-a7ff93fdcb4e"
      },
      "source": [
        "Y_pred"
      ],
      "execution_count": 11,
      "outputs": [
        {
          "output_type": "execute_result",
          "data": {
            "text/plain": [
              "array([1, 1, 1, 1, 0, 1, 1, 0, 0, 0])"
            ]
          },
          "metadata": {},
          "execution_count": 11
        }
      ]
    },
    {
      "cell_type": "code",
      "metadata": {
        "colab": {
          "base_uri": "https://localhost:8080/"
        },
        "id": "kcsyZKmoEdwR",
        "outputId": "be9b2d3c-7f94-4aec-baa1-bde8415877a3"
      },
      "source": [
        "Y"
      ],
      "execution_count": 12,
      "outputs": [
        {
          "output_type": "execute_result",
          "data": {
            "text/plain": [
              "array([0, 1, 1, 1, 0, 0, 1, 0, 0, 0])"
            ]
          },
          "metadata": {},
          "execution_count": 12
        }
      ]
    },
    {
      "cell_type": "markdown",
      "metadata": {
        "id": "ncXi9AMyFMbV"
      },
      "source": [
        "##**Implementasi Pada Data Real**\n",
        "\n",
        "Loading Dataset"
      ]
    },
    {
      "cell_type": "code",
      "metadata": {
        "colab": {
          "base_uri": "https://localhost:8080/",
          "height": 204
        },
        "id": "ieN1J3RBFL5k",
        "outputId": "869b6b26-9711-4e44-e933-5d1188794321"
      },
      "source": [
        "data = pd.read_csv(\"https://raw.githubusercontent.com/KTakatsuji/Twitter-Sentiment-Naive-Bayes/master/NaiveBayes/wordbag.csv\")\n",
        "data.head()"
      ],
      "execution_count": 13,
      "outputs": [
        {
          "output_type": "execute_result",
          "data": {
            "text/html": [
              "<div>\n",
              "<style scoped>\n",
              "    .dataframe tbody tr th:only-of-type {\n",
              "        vertical-align: middle;\n",
              "    }\n",
              "\n",
              "    .dataframe tbody tr th {\n",
              "        vertical-align: top;\n",
              "    }\n",
              "\n",
              "    .dataframe thead th {\n",
              "        text-align: right;\n",
              "    }\n",
              "</style>\n",
              "<table border=\"1\" class=\"dataframe\">\n",
              "  <thead>\n",
              "    <tr style=\"text-align: right;\">\n",
              "      <th></th>\n",
              "      <th>Unnamed: 0</th>\n",
              "      <th>frequency</th>\n",
              "      <th>word</th>\n",
              "    </tr>\n",
              "  </thead>\n",
              "  <tbody>\n",
              "    <tr>\n",
              "      <th>0</th>\n",
              "      <td>0</td>\n",
              "      <td>5011.0</td>\n",
              "      <td>i</td>\n",
              "    </tr>\n",
              "    <tr>\n",
              "      <th>1</th>\n",
              "      <td>1</td>\n",
              "      <td>4987.0</td>\n",
              "      <td>to</td>\n",
              "    </tr>\n",
              "    <tr>\n",
              "      <th>2</th>\n",
              "      <td>2</td>\n",
              "      <td>4335.0</td>\n",
              "      <td>you</td>\n",
              "    </tr>\n",
              "    <tr>\n",
              "      <th>3</th>\n",
              "      <td>3</td>\n",
              "      <td>3824.0</td>\n",
              "      <td>birthday</td>\n",
              "    </tr>\n",
              "    <tr>\n",
              "      <th>4</th>\n",
              "      <td>4</td>\n",
              "      <td>3761.0</td>\n",
              "      <td>the</td>\n",
              "    </tr>\n",
              "  </tbody>\n",
              "</table>\n",
              "</div>"
            ],
            "text/plain": [
              "   Unnamed: 0  frequency      word\n",
              "0           0     5011.0         i\n",
              "1           1     4987.0        to\n",
              "2           2     4335.0       you\n",
              "3           3     3824.0  birthday\n",
              "4           4     3761.0       the"
            ]
          },
          "metadata": {},
          "execution_count": 13
        }
      ]
    },
    {
      "cell_type": "markdown",
      "metadata": {
        "id": "PS1FtkeIRVL6"
      },
      "source": [
        "Membagi Data jadi Training & Testing"
      ]
    },
    {
      "cell_type": "code",
      "metadata": {
        "id": "pitBk5F3RWzS"
      },
      "source": [
        "from sklearn.model_selection import train_test_split\n",
        "train, test = train_test_split(data, test_size=.3, random_state=41)"
      ],
      "execution_count": 14,
      "outputs": []
    },
    {
      "cell_type": "markdown",
      "metadata": {
        "id": "hW0ygro2Rf16"
      },
      "source": [
        "Training Model"
      ]
    },
    {
      "cell_type": "code",
      "metadata": {
        "id": "V_qZUIzoRiF-"
      },
      "source": [
        "X_test = test.iloc[:,:-1].values\n",
        "Y_test = test.iloc[:,-1].values\n",
        "Y_pred = naive_bayes_categorical(train, X=X_test, Y=\"frequency\")"
      ],
      "execution_count": 16,
      "outputs": []
    },
    {
      "cell_type": "code",
      "metadata": {
        "colab": {
          "base_uri": "https://localhost:8080/"
        },
        "id": "HEwmoGo4Rq4m",
        "outputId": "488116c1-3bb1-4628-c633-3889dad9f9b5"
      },
      "source": [
        "from sklearn.metrics import accuracy_score\n",
        "print(accuracy_score(Y_test, Y_pred))"
      ],
      "execution_count": 17,
      "outputs": [
        {
          "output_type": "stream",
          "name": "stdout",
          "text": [
            "0.0\n"
          ]
        }
      ]
    },
    {
      "cell_type": "markdown",
      "metadata": {
        "id": "w2R6yLxcRz5K"
      },
      "source": [
        "##**Metode Klasifikasi Naive Bayes Data Numerik**\n",
        "\n",
        "Misal kita memiliki dataset sebagai berikut:"
      ]
    },
    {
      "cell_type": "code",
      "metadata": {
        "colab": {
          "base_uri": "https://localhost:8080/",
          "height": 204
        },
        "id": "Bs-fZ3pnRsSV",
        "outputId": "0631bbc1-83bc-48c8-fc85-64efd5f84bbb"
      },
      "source": [
        "data1 = pd.read_csv(\"https://raw.githubusercontent.com/KTakatsuji/Twitter-Sentiment-Naive-Bayes/master/NaiveBayes/wordbag.csv\")\n",
        "data1.head()"
      ],
      "execution_count": 24,
      "outputs": [
        {
          "output_type": "execute_result",
          "data": {
            "text/html": [
              "<div>\n",
              "<style scoped>\n",
              "    .dataframe tbody tr th:only-of-type {\n",
              "        vertical-align: middle;\n",
              "    }\n",
              "\n",
              "    .dataframe tbody tr th {\n",
              "        vertical-align: top;\n",
              "    }\n",
              "\n",
              "    .dataframe thead th {\n",
              "        text-align: right;\n",
              "    }\n",
              "</style>\n",
              "<table border=\"1\" class=\"dataframe\">\n",
              "  <thead>\n",
              "    <tr style=\"text-align: right;\">\n",
              "      <th></th>\n",
              "      <th>Unnamed: 0</th>\n",
              "      <th>frequency</th>\n",
              "      <th>word</th>\n",
              "    </tr>\n",
              "  </thead>\n",
              "  <tbody>\n",
              "    <tr>\n",
              "      <th>0</th>\n",
              "      <td>0</td>\n",
              "      <td>5011.0</td>\n",
              "      <td>i</td>\n",
              "    </tr>\n",
              "    <tr>\n",
              "      <th>1</th>\n",
              "      <td>1</td>\n",
              "      <td>4987.0</td>\n",
              "      <td>to</td>\n",
              "    </tr>\n",
              "    <tr>\n",
              "      <th>2</th>\n",
              "      <td>2</td>\n",
              "      <td>4335.0</td>\n",
              "      <td>you</td>\n",
              "    </tr>\n",
              "    <tr>\n",
              "      <th>3</th>\n",
              "      <td>3</td>\n",
              "      <td>3824.0</td>\n",
              "      <td>birthday</td>\n",
              "    </tr>\n",
              "    <tr>\n",
              "      <th>4</th>\n",
              "      <td>4</td>\n",
              "      <td>3761.0</td>\n",
              "      <td>the</td>\n",
              "    </tr>\n",
              "  </tbody>\n",
              "</table>\n",
              "</div>"
            ],
            "text/plain": [
              "   Unnamed: 0  frequency      word\n",
              "0           0     5011.0         i\n",
              "1           1     4987.0        to\n",
              "2           2     4335.0       you\n",
              "3           3     3824.0  birthday\n",
              "4           4     3761.0       the"
            ]
          },
          "metadata": {},
          "execution_count": 24
        }
      ]
    },
    {
      "cell_type": "markdown",
      "metadata": {
        "id": "Eb7XH6ZKY0JO"
      },
      "source": [
        "Jika kita akan menghitung data numerik, maka ada dua cara, pertama kita ubah ke data categorical, atau dengan pendekatan model distribusi. Artinya kita melakukan fitting data ke sebuah distribusi standar(misal distribusi normal).\n",
        "\n",
        "![image.png](data:image/png;base64,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)"
      ]
    },
    {
      "cell_type": "markdown",
      "metadata": {
        "id": "nhTzWX48aIys"
      },
      "source": [
        "##**Implementasi Pada Python**\n",
        "\n",
        "Import Library"
      ]
    },
    {
      "cell_type": "code",
      "metadata": {
        "id": "8GXVWfzOaSBB"
      },
      "source": [
        "import pandas as pd\n",
        "import numpy as np"
      ],
      "execution_count": 19,
      "outputs": []
    },
    {
      "cell_type": "markdown",
      "metadata": {
        "id": "DF1yoGm2agoJ"
      },
      "source": [
        "DataFrame Input"
      ]
    },
    {
      "cell_type": "code",
      "metadata": {
        "colab": {
          "base_uri": "https://localhost:8080/",
          "height": 204
        },
        "id": "oRSZOtGraVUH",
        "outputId": "a2eb30a2-aeb9-459d-a01c-d555fed49aef"
      },
      "source": [
        "data1 = pd.read_csv(\"https://raw.githubusercontent.com/KTakatsuji/Twitter-Sentiment-Naive-Bayes/master/NaiveBayes/wordbag.csv\")\n",
        "data1.head()"
      ],
      "execution_count": 26,
      "outputs": [
        {
          "output_type": "execute_result",
          "data": {
            "text/html": [
              "<div>\n",
              "<style scoped>\n",
              "    .dataframe tbody tr th:only-of-type {\n",
              "        vertical-align: middle;\n",
              "    }\n",
              "\n",
              "    .dataframe tbody tr th {\n",
              "        vertical-align: top;\n",
              "    }\n",
              "\n",
              "    .dataframe thead th {\n",
              "        text-align: right;\n",
              "    }\n",
              "</style>\n",
              "<table border=\"1\" class=\"dataframe\">\n",
              "  <thead>\n",
              "    <tr style=\"text-align: right;\">\n",
              "      <th></th>\n",
              "      <th>Unnamed: 0</th>\n",
              "      <th>frequency</th>\n",
              "      <th>word</th>\n",
              "    </tr>\n",
              "  </thead>\n",
              "  <tbody>\n",
              "    <tr>\n",
              "      <th>0</th>\n",
              "      <td>0</td>\n",
              "      <td>5011.0</td>\n",
              "      <td>i</td>\n",
              "    </tr>\n",
              "    <tr>\n",
              "      <th>1</th>\n",
              "      <td>1</td>\n",
              "      <td>4987.0</td>\n",
              "      <td>to</td>\n",
              "    </tr>\n",
              "    <tr>\n",
              "      <th>2</th>\n",
              "      <td>2</td>\n",
              "      <td>4335.0</td>\n",
              "      <td>you</td>\n",
              "    </tr>\n",
              "    <tr>\n",
              "      <th>3</th>\n",
              "      <td>3</td>\n",
              "      <td>3824.0</td>\n",
              "      <td>birthday</td>\n",
              "    </tr>\n",
              "    <tr>\n",
              "      <th>4</th>\n",
              "      <td>4</td>\n",
              "      <td>3761.0</td>\n",
              "      <td>the</td>\n",
              "    </tr>\n",
              "  </tbody>\n",
              "</table>\n",
              "</div>"
            ],
            "text/plain": [
              "   Unnamed: 0  frequency      word\n",
              "0           0     5011.0         i\n",
              "1           1     4987.0        to\n",
              "2           2     4335.0       you\n",
              "3           3     3824.0  birthday\n",
              "4           4     3761.0       the"
            ]
          },
          "metadata": {},
          "execution_count": 26
        }
      ]
    },
    {
      "cell_type": "markdown",
      "metadata": {
        "id": "pnGwS59wak_R"
      },
      "source": [
        "EDA for Distribution"
      ]
    },
    {
      "cell_type": "code",
      "metadata": {
        "colab": {
          "base_uri": "https://localhost:8080/",
          "height": 348
        },
        "id": "9d8dpLf_akaU",
        "outputId": "03bf44e3-ecab-4b9a-f3eb-cff0ea26a201"
      },
      "source": [
        "fig, axes = plt.subplots(1, 2, figsize=(18, 6), sharey=True)\n",
        "sns.histplot(data1, ax=axes[0], x=\"frequency\", kde=True, color='r')\n",
        "sns.histplot(data1, ax=axes[1], x=\"Unnamed: 0\", kde=True, color='b')\n",
        "\n",
        "plt.show()"
      ],
      "execution_count": 30,
      "outputs": [
        {
          "output_type": "display_data",
          "data": {
            "image/png": "[encoded data removed]",
            "text/plain": [
              "<Figure size 1296x432 with 2 Axes>"
            ]
          },
          "metadata": {
            "needs_background": "light"
          }
        }
      ]
    },
    {
      "cell_type": "markdown",
      "metadata": {
        "id": "rcy227-GbNOj"
      },
      "source": [
        "Naive Bayes untuk Data Numerik"
      ]
    },
    {
      "cell_type": "code",
      "metadata": {
        "id": "Z7OrmcAEakVT"
      },
      "source": [
        "def prob_prior(df, Y):\n",
        "  label_kelas = sorted(list(df[Y].unique()))\n",
        "  prior = []\n",
        "  for i in label_kelas:\n",
        "    prior.append(len(df[df[Y]==i])/len(df))\n",
        "  return prior"
      ],
      "execution_count": 31,
      "outputs": []
    },
    {
      "cell_type": "code",
      "metadata": {
        "id": "Xq92yb03bXMu"
      },
      "source": [
        "def likelihood_gaussian(df, nama_var, nilai_var, Y, label):\n",
        "  feat = list(df.columns)\n",
        "  df = df[df[Y]==label]\n",
        "  mean, std = df[nama_var].mean(), df[nama_var].std()\n",
        "  p_x_dgsyrt_y = (1 / (np.sqrt(2 * np.pi) * std)) * np.exp(-((nilai_var-mean)**2 / (2 * std**2)))\n",
        "  return p_x_given_y"
      ],
      "execution_count": 32,
      "outputs": []
    },
    {
      "cell_type": "code",
      "metadata": {
        "id": "JCdklV0vbgFv"
      },
      "source": [
        "def naive_bayes_gaussian(df, X, Y):\n",
        "  # mengambil nama kolom\n",
        "  nama_kolom = list(df.columns)[:-1]\n",
        "  # menghitung prob prior\n",
        "  prior = prob_prior(df, Y)\n",
        "  Y_pred = []\n",
        "  # lopping pada setiap baris data\n",
        "  for x in X:\n",
        "    # menghitung likelihood\n",
        "    labels = sorted(list(df[Y].unique()))\n",
        "    likelihood = [1]*len(labels)\n",
        "    for j in range(len(labels)):\n",
        "      for i in range(len(nama_kolom)):\n",
        "        likelihood[j] *= likelihood_gaussian(df, nama_kolom[i], x[i], Y, labels[j])\n",
        "    # menghitung posterior probability\n",
        "    post_prob = [1]*len(labels)\n",
        "    for j in range(len(labels)):\n",
        "      post_prob[j] = likelihood[j] * prior[j]\n",
        "      Y_pred.append(np.argmax(post_prob))\n",
        "  return np.array(Y_pred)"
      ],
      "execution_count": 33,
      "outputs": []
    },
    {
      "cell_type": "code",
      "metadata": {
        "id": "pWABs1KZbpdd"
      },
      "source": [
        "train, test = train_test_split(data1, test_size=.2, random_state=41)\n",
        "X_test = test.iloc[:,:-1].values\n",
        "Y_test = test.iloc[:,-1].values\n",
        "Y_pred = naive_bayes_categorical(train, X=X_test, Y=\"frequency\")"
      ],
      "execution_count": 35,
      "outputs": []
    },
    {
      "cell_type": "code",
      "metadata": {
        "colab": {
          "base_uri": "https://localhost:8080/"
        },
        "id": "hP12ecyPb83k",
        "outputId": "59290e21-bf21-4562-e43e-c8cc3be359a6"
      },
      "source": [
        "print(accuracy_score(Y_test, Y_pred))"
      ],
      "execution_count": 36,
      "outputs": [
        {
          "output_type": "stream",
          "name": "stdout",
          "text": [
            "0.0\n"
          ]
        }
      ]
    }
  ]
}