{
  "nbformat": 4,
  "nbformat_minor": 0,
  "metadata": {
    "colab": {
      "name": "Percabangan_Winda Maulidda 1800015081.ipynb",
      "provenance": [],
      "collapsed_sections": [],
      "authorship_tag": "ABX9TyPaIYYq+A/Qe+KcEot+RNy/",
      "include_colab_link": true
    },
    "kernelspec": {
      "name": "python3",
      "display_name": "Python 3"
    },
    "language_info": {
      "name": "python"
    }
  },
  "cells": [
    {
      "cell_type": "markdown",
      "metadata": {
        "id": "view-in-github",
        "colab_type": "text"
      },
      "source": [
        "<a href=\"https://colab.research.google.com/github/windamaulidda/PSDS_KelasMahir_PejuangData3.0/blob/main/Percabangan_Winda_Maulidda_1800015081.ipynb\" target=\"_parent\"><img src=\"https://colab.research.google.com/assets/colab-badge.svg\" alt=\"Open In Colab\"/></a>"
      ]
    },
    {
      "cell_type": "markdown",
      "metadata": {
        "id": "bmG4J3M0TtKU"
      },
      "source": [
        "##**Pembukaan**"
      ]
    },
    {
      "cell_type": "markdown",
      "metadata": {
        "id": "zULptBHuVJKX"
      },
      "source": [
        "######Assalamu'alaikum warahmatullahi wabarakatuh. Puji syukur kehadirat Allah Subhana Wata'ala atas limpahan Rahmat dan HidayahNya kepada kita semua. Sholawat serta salam senantiasa tercurah limpahkan kepada baginda Muhammad Rasulullah Salallahualaihiwassalam.\n",
        "\n",
        "Halo para **Pejuang Data**. Selamat berjumpa di pertemuan kedua Program Training **Algoritma Machine\n",
        "Learning** Kelas Mahir."
      ]
    },
    {
      "cell_type": "markdown",
      "metadata": {
        "id": "QYYtXjt4WApP"
      },
      "source": [
        "####Pada pertemuan ini kamu akan belajar:\n",
        "\n",
        "\n",
        "\n",
        "\n",
        "*   Percabangan/ Struktur Pemilihan\n",
        "*   IF Statements\n",
        "*   IF ELSE Statements\n",
        "*   F ELIF ELSE Statements\n",
        "*   Python Nested IF Statements\n",
        "*   Latihan\n",
        "\n",
        "\n",
        "\n",
        "\n",
        "\n"
      ]
    },
    {
      "cell_type": "markdown",
      "metadata": {
        "id": "QtTOXLV9XmCw"
      },
      "source": [
        "##**Percabangan/ Struktur Pemilihan**"
      ]
    },
    {
      "cell_type": "markdown",
      "metadata": {
        "id": "yy5DdwREXu08"
      },
      "source": [
        "####Pada bagian ini, kamu akan membuat keputusan pada bahasa pemrograman Python menggunakan struktur percabangan atau juga sering disebut IF ELSE Statement. Pengambilan keputusan dibutuhkan ketika kamu akan mengeksekusi suatu kode jika sebuah kondisi tertentu dipenuhi.\n",
        "\n",
        "Statement if .. elif ... else digunakan pada bahasa Python untuk pengambilan keputusan"
      ]
    },
    {
      "cell_type": "markdown",
      "metadata": {
        "id": "PE-uFi-HX_-s"
      },
      "source": [
        "##**IF Statements**"
      ]
    },
    {
      "cell_type": "markdown",
      "metadata": {
        "id": "Nk-zZ91hYD1t"
      },
      "source": [
        "####**Python IF Statement Syntax**\n",
        "      if test expression:\n",
        "         statement(s)"
      ]
    },
    {
      "cell_type": "markdown",
      "metadata": {
        "id": "tEp3HumHY-DV"
      },
      "source": [
        "Program akan mengevaluasi nilai dari test expression yang diberikan kemudian akan mengeksekusi\n",
        "statement(s) hanya jika test expression bernilai True .\n",
        "\n",
        "Jika test expression bernilai False , maka statement(s) tidak dieksekusi.\n",
        "\n",
        "Seperti telah disampaikan pada pertemuan sebelumnya bahwa bagian body dari statement if diindikasikan\n",
        "dengan indentasi. Statement-statement yang akan dijalankan jika test expression bernilai True ditulis\n",
        "pada baris selanjutnya dan menjorok ke dalam.\n",
        "\n",
        "Sebagai catatan tambahan bahwa Python menginterpretasikan non-zero values sebagai True . None\n",
        "dan 0 diinterpretasikan sebagai False ."
      ]
    },
    {
      "cell_type": "markdown",
      "metadata": {
        "id": "3eEOl8RrZbQV"
      },
      "source": [
        "####**Python IF Statement Flowchart**"
      ]
    },
    {
      "cell_type": "markdown",
      "metadata": {
        "id": "OS6cj3t_aWEi"
      },
      "source": [
        "![Python_if_statement.webp](data:image/webp;base64,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)"
      ]
    },
    {
      "cell_type": "markdown",
      "metadata": {
        "id": "dvtjCKFMb0Uk"
      },
      "source": [
        "**Example: Python IF Statement**"
      ]
    },
    {
      "cell_type": "code",
      "metadata": {
        "id": "bspbYHOzcJ3d"
      },
      "source": [
        "# Jika angka adalah bilangan positif maka print \"adalah bilangan positif\"\n",
        "\n",
        "angka = 3\n",
        "if angka > 0:\n",
        "    print(angka, \"adalah bilangan positif.\")\n",
        "print(\"Pernyataan ini selalu ditampilkan.\")\n",
        "  \n",
        "angka = -1\n",
        "if angka > 0:\n",
        "    print(angka, \"adalah bilangan positif.\")\n",
        "print(\"Pernyataan ini juga selalu ditampilkan.\")"
      ],
      "execution_count": null,
      "outputs": []
    },
    {
      "cell_type": "markdown",
      "metadata": {
        "id": "Go3lDkzjcr1J"
      },
      "source": [
        "3 adalah bilangan positif.\n",
        "Pernyataan ini selalu ditampilkan.\n",
        "Pernyataan ini juga selalu ditampilkan.\n",
        "\n",
        "Pada contoh di atas, angka > 0 adalah test expression . Bagian body dari if dieksekusi hanya jika hasil\n",
        "evaluasi dari test expression adalah bernilai True.\n",
        "\n",
        "Ketika variabel angka bernilai 3, test expression bernilai True sehingga statement di dalam bagian\n",
        "body dari if akan dieksekusi. Sedangkan ketika variabel angka bernilai -1, test expression bernilai\n",
        "False sehingga statement di dalam bagian body dari if tidak dieksekusi(di skip).\n",
        "\n",
        "Statement print() di luar blok if (yang tidak terindentasi) akan selalu dieksekusi."
      ]
    },
    {
      "cell_type": "markdown",
      "metadata": {
        "id": "U7D7XgwTdQYQ"
      },
      "source": [
        "####**IF ELSE Statements**"
      ]
    },
    {
      "cell_type": "markdown",
      "metadata": {
        "id": "cOf-_wMMdZi1"
      },
      "source": [
        "**Python IF ELSE Statement Syntax**\n",
        "\n",
        "     if test expression:\n",
        "        Body of if\n",
        "     else :\n",
        "          Body of else"
      ]
    },
    {
      "cell_type": "markdown",
      "metadata": {
        "id": "3Ki_efSNePTH"
      },
      "source": [
        "Statement if ... else mengevaluasi test expression dan akan mengeksekusi bagian body of if\n",
        "hanya jika test expression bernilai True .\n",
        "\n",
        "Jika test expression bernilai False , maka bagian body of else akan dieksekusi. Indentasi juga\n",
        "digunakan pada bagian ini."
      ]
    },
    {
      "cell_type": "markdown",
      "metadata": {
        "id": "WIZt5-KFeWm3"
      },
      "source": [
        "####**Python IF ELSE Statement Flowchart**"
      ]
    },
    {
      "cell_type": "markdown",
      "metadata": {
        "id": "7IRBb1RBehcJ"
      },
      "source": [
        "![Python_if_else_statement.webp](data:image/webp;base64,UklGRpgSAABXRUJQVlA4IIwSAACQVQCdASoXARABPlEmkEWjoiGSWl1QOAUEtLdwtoiG2br5+/qfaj/Sfx960/wz6+etS+NfIvrX9q/sX7S/lz+CP2DvN+I3yN7Av4f/HP7R+W39d9Of+G7XjLv8N/hPyq+AX01+Z/43+0/up/b/jK9x/tf5b+431q/sXuAfy/+a/2j8lf3/+iu9o+4/6D9WvgA/k/9D/zv9w/dz+zfTL+9f7n/B/kh7QfzH+5/7//Gfkz9gf8e/n/+i/u/+c/8/+S////1+7f13/tl7If69f/AoW8Ei9P+23O1r2Ntzta6A8xGq67/x23O1r1YL14c2tkVdoGNk+/0sw1jx23O1nbPfwi7/iP+rVtaNtRTJtpMkHH3FA4Oy68XF5sZhnWXZumtB/7cFPTAW6mUeoCCkj8NAnFqOQQHhLD75t7J37UBayX7DteCL5NObrXfUTS1gxfn+rU1b6wqgwN3lrnQfl9hwLzWhP+SdU2Uns6AlZlWDUzO549dvN1Muy+S249f7qdcVbkT0fIArPmXwrQiBh0T6Fya9/Q4RC1a3QgCtc7jhBsgKPJotudpi87WvYpf9gryWq46O25zm6tEvhCs+3hiuglD+SoHWA045/Pa9tmr5dPer7IZqHK63+JFMwdqv3qsAk3picKGmY1QZNZNNC+jwepm0vQskYewMEpHxRUBDsozP9yuVk4QixLsA9XYSxziQlfJhjzAylj3nCoImz/fzKjT7XSVRAm9/mDftamMMc6wxbpc+2BrMhVQyVHZ308LcsZcV6Ti2o45JG5Bq/m8bvc/wTK5hDe372b3GC3g//xAyCThZUwK17G252tezZvf+O252terKek00QNiXCZyDIGBSWWFInUh6B4xOxoOfi0IfmVHDM9z4qpPSC1h4cLQfIYNu/vRi0Wf83I+X0HYCAxhIagAA/v84m6jAKDDFA6rhrUrVojQC2PnAAxw7V/5QoEWkrCiQotZzT02NVR5clTdcGXqVqX6zGoTFEZdqAJ+7wB/oA3PD/QqTK1b5v4KUpEP1qzmp4TETcITaxb0hKppks6tvFTKEqoozu8vCbI72GIC0A/k9iETYoWbAmwh9PbCLxggi/3oZhR/fXLKiuglQ7GcEXS96ttlhy+3ei58TPq9jJy6nnOOqhIgVZZyfSJuOrAjZndOV8hz5l9S+blrDCOInf87FNai+J9TiPM0GXKSBx6WaBBd+RmCzUyD9/9mKB6yzufYyc+4jr+/qUk0j371umNIQasTI5ecz4dd8X+ZGhtpsTt6eH/YZ+NLsh3fBZPUvj9tGThhTKgNDzR2vFYEYkUPOIZKNDMixT2D/4nQCJBE5uytU+hgS5NIOI4JyNy6/nXhqqspRWEXY/S74+0IsOY5rlgUO6kieHUM3lszFZ2/0hNq0Q0F2zwA6FEs0eYs2jFd/RmV2DJiHCtOOZmw9e4MG8tgB/qmzw+v5e9NaGr2k/j8xnsY137sOwA/Tep/+aapRaB4EXk9j/ldBcV7XxSk/nplIzNxI0eiXplb7vlDHQPq2lGH/cxE38/eeLOapu6oykOzD8ZIzP1Mihk+jRQXtlpJJ8aVdeJ42te8jMsPGyjNwKaRh9IPKw1vWMXH/+nrvR8QQ3fRcy7tpfEOIQtmXqR3a56+lsKw34sVg/gXeeOnd7APkgZhqQ5PuwNsJsOML/isBGBZeJqEOvSYUaHbcwpa3H+oLqFHZ6zSWD0CjJf8CDPSjeL/3iMenlTZ6RVdxo/nySU6m8NEbpYcbvVkz58zsILZA6OeUgBVoYf/DFabmqrYLFi1ASyn2M6VnoeNyAZlhoTnfPeV4JGAlRPR9aqgF7c+fqtnvrFXdeiML+5bSrnJvwYQIEZqAVTDimBs+qgwhMY2vZOve7DYg/38DgdmNaAEOamRLNsN/KG7hGqMXw6qZj3AqMPe5l/7Jrt7Knhu6NCPxJPqDlXcf8yFbVN79zRZOsE0DLX2LC6/5gTlRv3WZr8X+QAD6v+5ZQGKOt74Ytx2hYxsmP/EesAs6ZXj7Uv8PQdi/P1oTHb6IaN3FhobO/f/mwm/5L2bj1I3oJi9O5Z8X4C5ibXN/vDBf587iyWc/Wc7ZCSv3AFVlinFPa7pZj03zsRkDAcZCDTPFarEjK/njxs1BtFzz86f/jsypERyRz+HXTdiAlXXpm1uN0UQj55ip3futyWaDrRgPZKabT2+NKFf27z+AFFw6Dbc2cmXui68jgUo6Hvt1puXJbyatslGK9SrdPOrbO4Zx7+g9Agczsdbhmn508+57sHHQiFMrrV7fvAImqI+of9SNtj5OBHavzF3iK2WUlmJat3yt194czBs7CmAcxPQmjsynZfLVT24EWLOl5CAAGn2Pgc7dwL5D/ur7Ctam4pHPUs3ppBk+7llLfhAx6nMI5+7yPqWuzcSnIv+nz8d+AOJW/ecydoNn7XfFWWQiKvoxUCLSbduK9N0WhpmyaZdnZfI3vaELYq22D0MkL+R4a9rYT07ZvtefGONeKGPyHqAeW4RSoUtNtaQFyW2ihqAPe0tBLhfTYOQKNOQCMb1KmaRZrJCWXQQ4itQh/fVK42HpV3n5ciHH+IFGFG8+NWgEtS4HERr2Z44eLnuNecQ6V3fjkc178xjbLIV0I426zUoCgrzj3VePqqJ2sf8zAp8I3kJujgUYAxAT0XpEEpRxik7w0qduDmXOJ+aRu39SHRVdnTc6rjoYp8Gb7qzkfChcYtwIecb93sAy5jA0kdKl2lpspEIa7r8TPHdQWV+wjxw9cu4PS7hQdz96AluWCLG5gTOPOwcCtRIw2JX/f6LWd7OzXtTmeOYjLKdni7f86RNa/NzP6TpNvfHaFRj0WZw3mnJNYY9q2TgLbIV1Y3R4EFAGS9tPl9Mx/4l/RaB302qR+BQjvqnC8uEk6cU9oJGH+0OQ2Pb8Bh4V1bOHiMQOmLp5RGoZVvGrxbmFyO6ENK5kBIsMSbc3L6Y0QV9EkrE7Nzob9OX1v6txDyIij7fjzSp8ZR9iMZXJUX60jLN0HaLKlOSL7CHaAcRkImK1psCcZZksoQs5BgoB1R6e3+oOVpwDBNhSWM18IstV1ltxGuqe3CIXEyBhaKIbkmUPuxaa3dxH5r7dqlBPNyvYpPfKWKxwt8r4syu/iu+6lS7pc+9ewtOHGZh+ZGAqq7JbavnIicQlrIU9RkLulOmT9nK4sgq9Rcazk3Wne6y4g99CJ7vTx8Kp5dgaVZYWs7ME5e+4YTa9NK84rhb41O1Ioe9IRd1uAD43+dvvnptcepnzT0Fk06UuARnzqGr9Tzqjzi/rlev5u31nL6wF4NhWduEneiKqko7tuuMrJR09buSkgtSW9dGQjmnYbL7GpijoMmwk8dBlvTYsbIyv+XmUB1k5BJb5EbWtrasCoJ1XBiUPtvjUrZehvfCidRwbYFcVJTJt+01crWY3czIfm07dKyBD0ON2Dc68cd8lvYZMMCByTHdkHjmIfiaMuD4KW3rGNvFjKJ8BurnYPAqPM3fAjtxUd8Aq1a4TNB5eEYJkC2PoG6RGjqD/vFVLXKyvAym0hOBE674sBRdx7wK504uv5dh0j5CAwG3hFL0rbJrGVqKNgf6lcRQdj5GXo1lsDDVhRggbMFuBeMYD7emc64OfjPywAS0869b0FeMoUQ3LR/SKvLK1dz9cAFSz9E/Vjbm7nAuS5AADMXYIOVqb2hUwDEN4879WOGFlcIMEhNzlakQ7siLjqfLrw3vyy9F1+0TWqWbkWEgFv+5krR8fSHAKjpoxBnhLp5g+YLLEhMfsrcvhTuAsO5vVN9DlieniipsPOVbNzHJ760SmHsVFllzQgEUSq4CcOH/U6XSbKSEnZsugKx7kMr/cT62Z/HUZaKZ0Cv65ZOxOua7o4LCeqNVj5+bzh9AGE95phdth4eUuIHC+NAdTTd8u2ow+zNoQujGe8ei+29eCzLQ+WartWYIAtc45FuktQKppLLgWVUpho8ZK9p63qyZLk2QMbfk3rKwutwMZ1lWFO+SHb1acQYk1HrQHvuig15ZE8bs7xkrYSGPLd9BBk8TcOL+hX5iHJrMvG2jKzpRheZtDRymy5UHJVX1RjG2VMBX0aN8AL3DpFXqvtnNSQhUM/OPin9YkfdQRIryeEsFrh0mPr91WdCHF3H8FQqc/IuS+pQtj1nvBWzgZ4LKPyrumm+En/9rIAOEQmkIFjSbz6+Ut7pauWdjCRzvpVrJLjbSQPn/rAbvCRtOb2Tde4NuRcvfJf/0Jb9OYDKnxb7s9Vq4TCuGVMVA0A7gLSL9xKguKJMEWNs43zEY7h8QAMkDunVsvf/jbIsFKBv3IPCW/g8yWOp46/bn9spsnZY1lRRjQU91IGR3HSxA2LZALs1hlJm9SMv5cs1uvsGT6bzKNxDnFZ3ED4nzIn3e8hpMBnx3VxGYA035xcID5b0NfakjB94wAIAnziLdvzSNOGf5YZp316PKvxiZpAPR+Hiulm4mJHIQsWFtRv741/h4K1gVjZcDH3ExzSpoiD9jt8Ap4AAA6yvHDyRW4cdghHi6bDLSUJXdzV3leZ6Q/Qcxeh2AtJ/4M+c3Nr1SRGWbPscf5qqi8+k6Y+SNPBBBfYXq7UUL1HascWphEOJpaNLKlWBr8cxhSlgTsmn7ZcdekvrGNWtg7alMwdFI7aFSsMg9iQGxmo/wWdtPAAYXSekhnVeFQOJsN3mcpFRHkyCZpio1ju4XO3KFfN6eg5Y8AxQ7JZZaBy5nAtvbaZnlYmNgOcDv66g4kX/x8wFGV+Ny6z5NrMHS9gmUD6mdYcu1JE2+ioGHu439t7SCZICoCYs9dowYygkK+7+bqAd34GjHnkcBT7lcVf4AVBQB+p0Qn3BrGeqMT8syyXi/KkK+AbJuvXL5FOrbug+6LwbsHIxXCbYRWUTjzD/HqCGrOw9YZVtwVpHNQAvUvwhznjeB2OgADlIKv5m+844bWNI4Llpcc8uCAKDDBqSHXHPTVAYeTsniGpOs1XBnZMKVfM2Yqzg/dX8Y/wigYBJMGSYtP62AMS2iAljl8xrNvTuVxavdmafuU6fDgvXFffksXfBH/cOOUHi9Gg5xlODgXU+RFcjy9miZLpz1yj6/B6OSBhUPdcvlX3ks0xJfXb50YEADJM7ZVeZ+yjxwBb91eXCk/dqNY4R645BvphMhXf9bA+ZTyQM1ZHY4niV7tyc0xFljVOlsxZhtvDAYAAAeBm6ynqDGn32ZoElO2ZTwafdh9q9unYhLgIg3GITWMOWYt+6n097KzRgbeXUCSb7qZWXvauuOZnHROVlmJijtWhY+Ca5erpjuE3zSpEMnJ2ELupAw74GMFqA3J5PtqUTmpVT21CW1xu4TcUxF8AVr+bIdvbCYj67rhhzCCphANcZB1EjY3PB/81gERm8dH7TKPIZoxlSpjgg+ZGBj6M0ibkt5TqFPQOqsOStA0DNhMjRgnuPnMcxToC2Q+zyTBgmRJgDpA2pCBY6pkznPjMskrOyKFAUimKz1L9Rz9E2MK6w0FHK0vuEvP5EzIUdm7pmwI1ayGONLYtFqlpZWY/wH3UNfd0/0flkyjcYWkaWgB8hT+dcOe4Ud0yXQAXJUjCwWboucrwC+k2UG8RwkHm/33Wc0pHaoEiim578IbyAozBuGjvZWQBpfwtPyWZu/PdSWJATip4lb1GhW8nmz0rry8fRcu4Da3z8xGaAg6UL5/ieQdGKuI/euyyFYQcya0RsD+cMY6dyK8SkrlSVQuq+Bk4he9/xX5LkIo7b03fk17n+E/q1f7TySKs4xIW3BGfpAFQMM1HzQg0ZyjynPhxWHrSZjXh2prxVtTWZQS+RI9YrDq4kurxFr2NEndbFeBvvqtobJ3JmY7P1n1Y7OU/NVbBKLSK+1Ls94xK1BynFp3r2GKuXsMG5zzP5D/QMXcv/aot/LwgDMdX69YjUra26lhvahAZ9cn8c3YPWqe2dQjgDknHSVW/BeIRq4STQc0Qtc+sVmsd9ZYdQz/cIJnP32cplLjeeQHGnr4mWbJWJNYkt8Sv8n0mrfvKfiY5Bn7J7+0yYCJj1uko3eCYhxnmJVyRtH2xtt4kQ0E5sQhnM/qgB/wyFNQEQBOIXL5GClimfGeoiqjS96xjP66+UMiwKBCH7jsLf6ubVA1YfM5COibia8Sq5sdVMzdiDyyMBiVIDsYjO3ylm5XdZsV98U1l4GqXS5RnAiFVPBUlp5Bbi0i2w2K0F79qiqB6Q+q/mZZFpZcJhTYOoUAklbl3jBnIy7N+XapndjQY+HX5Qo7VrFdiY89Yj3QLu1q/4jCWU12mABUgaIeAqJ19Mp8okNMDgIhakIe6UIAOgAAAA==)"
      ]
    },
    {
      "cell_type": "markdown",
      "metadata": {
        "id": "JKIsfUjsfDWK"
      },
      "source": [
        "**Example: Python IF ELSE Statement**"
      ]
    },
    {
      "cell_type": "code",
      "metadata": {
        "colab": {
          "base_uri": "https://localhost:8080/"
        },
        "id": "TwwaXMwLfTMJ",
        "outputId": "6a5843cf-3240-47ee-e225-7d9cc29f9cd9"
      },
      "source": [
        "# Program disusun untuk mengecek apakah angka merupakan bilangan positif atau negatif\n",
        "# dan menampilkan tulisan yang sesuai\n",
        "\n",
        "angka = 3\n",
        "\n",
        "# Kamu bisa mencoba angka-angka lainnya berikut:\n",
        "# angka = -5\n",
        "# angka = 0\n",
        "\n",
        "if angka >= 0:\n",
        "    print(\"Bilangan Positif atau Nol\")\n",
        "else:\n",
        "    print(\"Bilangan Negatif\")"
      ],
      "execution_count": null,
      "outputs": [
        {
          "output_type": "stream",
          "name": "stdout",
          "text": [
            "Bilangan Positif atau Nol\n"
          ]
        }
      ]
    },
    {
      "cell_type": "markdown",
      "metadata": {
        "id": "Or6OB99gfP75"
      },
      "source": [
        "\n",
        "Pada contoh di atas, ketika angka sama dengan 3, test expression bernilai True dan bagian body\n",
        "dari if dieksekusi sedangkan bagian body dari else diabaikan.\n",
        "\n",
        "Ketika angka sama dengan -5, test expression bernilai False dan bagian body dari if diabaikan\n",
        "sedangkan bagian body dari else dieksekusi.\n",
        "\n",
        "Jika angka sama dengan 0, test expression bernilai True dan bagian body dari if dieksekusi\n",
        "sedangkan bagian body dari else diabaikan."
      ]
    },
    {
      "cell_type": "code",
      "metadata": {
        "colab": {
          "base_uri": "https://localhost:8080/"
        },
        "id": "6vHkEbmxfqwD",
        "outputId": "82b5e418-f8f6-49d0-df44-7c3cd79a3779"
      },
      "source": [
        "#Program disusun untuk mengecek apakah dua buah angka sama atau tidak\n",
        "# dan menampilkan tulisan yang sesuai\n",
        "\n",
        "a = 5\n",
        "b = 5\n",
        "\n",
        "if a==b:\n",
        "  print(\"a dan b bernilai sama\")\n",
        "else:\n",
        "  print(\"a dan b bernilai berbeda\")\n",
        "  print(\"Halo\")"
      ],
      "execution_count": null,
      "outputs": [
        {
          "output_type": "stream",
          "name": "stdout",
          "text": [
            "a dan b bernilai sama\n"
          ]
        }
      ]
    },
    {
      "cell_type": "code",
      "metadata": {
        "colab": {
          "base_uri": "https://localhost:8080/"
        },
        "id": "VI75Q5Qqf-9N",
        "outputId": "abbd5f06-0c95-43ea-c0f1-7356a6c05ac6"
      },
      "source": [
        "# Program disusun untuk mengecek apakah perbandingan dua buah angka\n",
        "# dan menampilkan tulisan yang sesuai\n",
        "\n",
        "# membaca dua angka\n",
        "bilangan1 = int(input(\"Masukkan bilangan pertama: \"))\n",
        "bilangan2 = int(input(\"Masukkan bilangan kedua: \"))\n",
        "\n",
        "# memilih bilangan yang lebih besar\n",
        "if bilangan1 > bilangan2:\n",
        "  bilangan_lebih_besar = bilangan1\n",
        "else:\n",
        "  bilangan_lebih_besar = bilangan2\n",
        "# menampilkan hasil\n",
        "print(\"Bilangan yang lebih besar adalah:\", bilangan_lebih_besar)"
      ],
      "execution_count": null,
      "outputs": [
        {
          "output_type": "stream",
          "name": "stdout",
          "text": [
            "Masukkan bilangan pertama: 10\n",
            "Masukkan bilangan kedua: 10\n",
            "Bilangan yang lebih besar adalah: 10\n"
          ]
        }
      ]
    },
    {
      "cell_type": "markdown",
      "metadata": {
        "id": "JTHaTsQ7gbbG"
      },
      "source": [
        "####**IF ELIF ELSE Statements**"
      ]
    },
    {
      "cell_type": "markdown",
      "metadata": {
        "id": "qFygcmNlggP_"
      },
      "source": [
        "**Python IF ELIF ELSE Statement Syntax**\n",
        "\n",
        "     if test expression:\n",
        "        Body of if\n",
        "     elif test expression:\n",
        "        Body of elif\n",
        "     else :\n",
        "        Body of else\n",
        "elif adalah kependekan dari else if. Perintah ini bertugas untuk mengecek beberapa test expression .\n",
        "\n",
        "Jika kondisi untuk statement if bernilai False , maka akan mengecek ke kondisi elif selanjutnya dan\n",
        "begitu seterusnya. Jika semua kondisi pada statement if dan elif bernilai False maka, bagian body\n",
        "dari else akan dieksekusi.\n",
        "\n",
        "Hanya satu blok di antara if , elif , dan else yangakan dieksekusi berdasarkan kondisi yang sesuai.\n",
        "\n",
        "Pada sebuah if blok hanya diijinkan sebuah else blok namun dapat memiliki beberapa blok elif .\n"
      ]
    },
    {
      "cell_type": "markdown",
      "metadata": {
        "id": "NpYGbtfSg8I9"
      },
      "source": [
        "**Python IF ELIF ELSE Statement Flow Chart**"
      ]
    },
    {
      "cell_type": "markdown",
      "metadata": {
        "id": "O6hK6MBThChp"
      },
      "source": [
        "![Python_if_elif_else_statement.webp](data:image/webp;base64,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)"
      ]
    },
    {
      "cell_type": "markdown",
      "metadata": {
        "id": "wjXbbitbhv4K"
      },
      "source": [
        "**Example: Python IF ELIF ELSE Statement**"
      ]
    },
    {
      "cell_type": "code",
      "metadata": {
        "colab": {
          "base_uri": "https://localhost:8080/"
        },
        "id": "8NGz8RI6h_Bo",
        "outputId": "46410fb9-d7d5-448e-fd70-210515203d94"
      },
      "source": [
        "# Program disusun untuk mengecek apakah angka merupakan bilangan positif, negatif atau nol\n",
        "# dan menampilkan tulisan yang sesuai\n",
        "\n",
        "angka = 3.4\n",
        "\n",
        "# Kamu bisa mencoba angka-angka lainnya berikut:\n",
        "# angka = 0\n",
        "# angka = -4.5\n",
        "\n",
        "if angka > 0: \n",
        "  print(\"Bilangan Positif\")\n",
        "elif num == 0:\n",
        "  print(\"Nol\")\n",
        "else:\n",
        "  print(\"Bilangan Negatif\")"
      ],
      "execution_count": null,
      "outputs": [
        {
          "output_type": "stream",
          "name": "stdout",
          "text": [
            "Bilangan Positif\n"
          ]
        }
      ]
    },
    {
      "cell_type": "markdown",
      "metadata": {
        "id": "eFtxxx_wiNV7"
      },
      "source": [
        "Ketika variabel angka bernilai positif , maka Bilangan Positif ditampilkan.\n",
        "\n",
        "Jika angka sama dengan 0, maka Nol ditampilkan.\n",
        "\n",
        "Jika angka bernilai negatif , maka Bilangan Negatif ditampilkan."
      ]
    },
    {
      "cell_type": "code",
      "metadata": {
        "colab": {
          "base_uri": "https://localhost:8080/"
        },
        "id": "YqcGqMSpiTWH",
        "outputId": "ab8a4135-6f49-49fe-e014-b34a84c0ce30"
      },
      "source": [
        "# Statement if\n",
        "x = 4\n",
        "if x % 2 == 0: # jika sisa bagi x dengan 2 sama dengan 0\n",
        "    print(\"x habis dibagi dua\") # statemen aksi lebih menjorok ke dalam\n",
        "\n",
        "# Statement if ... elif ... else\n",
        "x = 7\n",
        "if x % 2 == 0: # jika sisa bagi x dengan 2 sama dengan 0\n",
        "    print(\"x habis dibagi dua\")\n",
        "elif x % 3 ==0: # jika sisa bagi x dengan 3 sama dengan 0\n",
        "    print(\"x habis dibagi tiga\")\n",
        "elif x % 5 ==0: # jika sisa bagi x dengan 5 sama dengan 0\n",
        "    print(\"x habis dibagi lima\")\n",
        "else:\n",
        "    print(\"x tidak habis dibagi dua, tiga ataupun lima\")"
      ],
      "execution_count": null,
      "outputs": [
        {
          "output_type": "stream",
          "name": "stdout",
          "text": [
            "x habis dibagi dua\n",
            "x tidak habis dibagi dua, tiga ataupun lima\n"
          ]
        }
      ]
    },
    {
      "cell_type": "markdown",
      "metadata": {
        "id": "q7tMySMBingo"
      },
      "source": [
        "####**Python Nested IF Statements**"
      ]
    },
    {
      "cell_type": "markdown",
      "metadata": {
        "id": "tmC0vXMoiyF2"
      },
      "source": [
        "Kita dapat membuat statement if...elif...else di dalam statement if...elif...else lainnya. Ini\n",
        "disebut sebagai nesting dalam computer programming .\n",
        "\n",
        "Sejumlah pernyataan ini dapat bersarang( nesting ) di dalam satu sama lain. Indentasi adalah satu-satunya\n",
        "cara untuk mengetahui tingkat bersarang. Mereka bisa membingungkan, jadi mereka harus dihindari kecuali\n",
        "jika perlu."
      ]
    },
    {
      "cell_type": "markdown",
      "metadata": {
        "id": "UHuJrmPRi4Bo"
      },
      "source": [
        "**Example: Python NESTED IF Statement**"
      ]
    },
    {
      "cell_type": "code",
      "metadata": {
        "colab": {
          "base_uri": "https://localhost:8080/"
        },
        "id": "Rbo4M_MRi9qK",
        "outputId": "585ae2c9-bb9f-4d08-a239-df9b0dbd1a54"
      },
      "source": [
        "# Program disusun untuk mengecek apakah angka merupakan bilangan positif, negatif atau nol\n",
        "# dan menampilkan tulisan yang sesuai\n",
        "\n",
        "angka = float(input(\"Masukkan angka: \"))\n",
        "if angka >= 0:\n",
        "    if angka == 0:\n",
        "        print(\"Nol\")\n",
        "    else:\n",
        "        print(\"Bilangan Positif\")\n",
        "else:\n",
        "   print(\"Bilangan Negatif\")"
      ],
      "execution_count": null,
      "outputs": [
        {
          "output_type": "stream",
          "name": "stdout",
          "text": [
            "Masukkan angka: 9\n",
            "Bilangan Positif\n"
          ]
        }
      ]
    },
    {
      "cell_type": "markdown",
      "metadata": {
        "id": "zhWE-kJOjRmi"
      },
      "source": [
        "**Latihan**\n",
        "\n",
        "\n",
        "1.   Buatlah sebuah fungsi \"Mahal_Diskon\" dengan ketentuan:\n",
        "    \n",
        "      A.  Input berupa data harga produk dengan tipe data numerik Tunggal\n",
        "\n",
        "      B. Kategori Input adalah \"Murah\" dan \"Mahal\", kemudian diskon ada 3 kategori \"10 %\", \"20 %\", dan\n",
        "\"\"40%\"\n",
        "\n",
        "      C. Output Pertama sebuah teks/string yang menyatakan \"Mahal\" atau \"Murah\" dan Keterangan \"Kamu\n",
        "Dapat Diskon ...\"\n",
        "\n",
        "      D. Output Kedua adalah harga yang perlu dibayarkan\n"
      ]
    },
    {
      "cell_type": "code",
      "metadata": {
        "id": "wiJtrR20kJ6x",
        "colab": {
          "base_uri": "https://localhost:8080/"
        },
        "outputId": "8951a063-2ad1-4601-eaa8-ed7b9d4c35a9"
      },
      "source": [
        "x = float(input('Harga Produk: Rp. '))\n",
        "\n",
        "if (x>500000):\n",
        "  print(\"MAHAL\")\n",
        "else:\n",
        "  print(\"MURAH\")\n",
        "\n",
        "if (x>0 and x<200000):\n",
        "  print(\" SELAMAT KAMU DAPAT DISKON 10%\")\n",
        "  diskon=0.1*x\n",
        "  bayar=x-diskon\n",
        "  print(\"Harga yang dibayarkan Rp.\", bayar)\n",
        "elif (x>= 200000 and x<1000000):\n",
        "  print(\"SELAMAT KAMU DAPAT DISKON 20%\")\n",
        "  diskon=0.2*x\n",
        "  bayar=x-diskon\n",
        "  print(\"Harga yang dibayarkan Rp.\", bayar)\n",
        "  \n",
        "else:\n",
        "  print(\"SELAMAT KAMU DAPAT DISKON 40%\")\n",
        "  diskon=0.4*x\n",
        "  bayar=x-diskon\n",
        "  print(\"Harga yang dibayarkan Rp.\", bayar)"
      ],
      "execution_count": null,
      "outputs": [
        {
          "output_type": "stream",
          "name": "stdout",
          "text": [
            "Harga Produk: Rp. 900000\n",
            "MAHAL\n",
            "SELAMAT KAMU DAPAT DISKON 20%\n",
            "Harga yang dibayarkan Rp. 720000.0\n"
          ]
        }
      ]
    },
    {
      "cell_type": "markdown",
      "metadata": {
        "id": "0usU3-1WkSgA"
      },
      "source": [
        "2.   Diberi sebuah string, tulislah sebuah fungsi python untuk memeriksa apakah string tersebut merupakan\n",
        "palindrom atau bukan. Sebuah string dikatakan palindrom jika susunan terbalik dari string tersebut sama\n",
        "dengan string pada susunan awalnya. Misalnya, \"radar\" adalah palindrom, tetapi \"radix\" bukanlah\n",
        "palindrom."
      ]
    },
    {
      "cell_type": "code",
      "metadata": {
        "id": "Uey4lagckY5L",
        "colab": {
          "base_uri": "https://localhost:8080/"
        },
        "outputId": "798e4724-0208-4788-81c3-09c7ae1f5737"
      },
      "source": [
        "y = input(\"Kata: \")\n",
        "z = len(y)\n",
        "kondisi = True\n",
        "\n",
        "for i in range (0, z):\n",
        "  if (kondisi):\n",
        "    b = z-(i+1)\n",
        "\n",
        "    if y[i] is y[b]:\n",
        "      kondisi = True\n",
        "    else:\n",
        "      kondisi = False\n",
        "      \n",
        "if (kondisi):\n",
        "  print('Palindrom')\n",
        "else:\n",
        "  print('BUKAN Palindrom')"
      ],
      "execution_count": null,
      "outputs": [
        {
          "output_type": "stream",
          "name": "stdout",
          "text": [
            "Kata: MATEMATIKA\n",
            "BUKAN Palindrom\n"
          ]
        }
      ]
    },
    {
      "cell_type": "markdown",
      "metadata": {
        "id": "lx29G6sskZac"
      },
      "source": [
        "3. Buatlah fungsi untuk menghitung diskon suatu pembayaran belanjaan dengan input berupa dictionary\n",
        "untuk daftar harga dan dictionary untuk daftar belanjaan!"
      ]
    },
    {
      "cell_type": "markdown",
      "metadata": {
        "id": "yk12dB57kg82"
      },
      "source": [
        "Contoh:\n",
        "\n",
        "     daftar_harga = {'telur/kg':20000, 'gula_pasir/kg':16000, 'teh/bks':4000}\n",
        "     daftar_belanjaan = {'telur':2, 'gula_pasir':5}\n",
        "\n",
        "     jumlah_bayar = pembayaran(daftar_harga, daftar_belanjaan)\n",
        "\n",
        "Output\n",
        "\n",
        "    120000"
      ]
    },
    {
      "cell_type": "code",
      "metadata": {
        "id": "lFLN3dlIkdXV",
        "colab": {
          "base_uri": "https://localhost:8080/"
        },
        "outputId": "40cd7938-ae0b-48f2-af04-152c98b96629"
      },
      "source": [
        "daftarharga = {'telur' : 17.500, 'gula_pasir' : 15000, 'teh' : 5000}\n",
        "daftarbelanjaan = {'telur' : 3, 'gula_pasir' : 3, 'teh' : 5}\n",
        "\n",
        "def pembayaran(daftarharga, daftarbelanjaan):\n",
        "\n",
        "  jumlah = 0\n",
        "  for barang in daftarharga:\n",
        "    for beli in daftarbelanjaan:\n",
        "      if barang == beli:\n",
        "        jumlah += daftarharga[beli]*daftarbelanjaan[beli]\n",
        "  disc = jumlah-jumlah*0.2\n",
        "  return disc\n",
        "\n",
        "jumlahbayar = pembayaran(daftarharga, daftarbelanjaan)\n",
        "print(jumlahbayar)"
      ],
      "execution_count": null,
      "outputs": [
        {
          "output_type": "stream",
          "name": "stdout",
          "text": [
            "56042.0\n"
          ]
        }
      ]
    }
  ]
}