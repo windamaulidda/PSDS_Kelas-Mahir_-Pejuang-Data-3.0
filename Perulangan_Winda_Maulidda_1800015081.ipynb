{
  "nbformat": 4,
  "nbformat_minor": 0,
  "metadata": {
    "colab": {
      "name": "Perulangan_Winda Maulidda 1800015081.ipynb",
      "provenance": [],
      "collapsed_sections": [],
      "include_colab_link": true
    },
    "kernelspec": {
      "name": "python3",
      "display_name": "Python 3"
    },
    "language_info": {
      "name": "python"
    }
  },
  "cells": [
    {
      "cell_type": "markdown",
      "metadata": {
        "id": "view-in-github",
        "colab_type": "text"
      },
      "source": [
        "<a href=\"https://colab.research.google.com/github/windamaulidda/PSDS_KelasMahir_PejuangData3.0/blob/main/Perulangan_Winda_Maulidda_1800015081.ipynb\" target=\"_parent\"><img src=\"https://colab.research.google.com/assets/colab-badge.svg\" alt=\"Open In Colab\"/></a>"
      ]
    },
    {
      "cell_type": "markdown",
      "metadata": {
        "id": "OVienVwtMwEc"
      },
      "source": [
        "#**Pembuka**\n",
        "\n",
        "Assalamu'alaikum warahmatullahi wabarakatuh. Puji syukur kehadirat Allah Subhana Wata'ala atas limpahan Rahmat dan HidayahNya kepada kita semua. Sholawat serta salam senantiasa tercurah limpahkan kepada baginda Muhammad Rasulullah Salallahualaihiwassalam.\n",
        "\n",
        "Halo para **Pejuang Data**. Selamat berjumpa di pertemuan kedua Program Training **Algoritma Machine Learning** Kelas Mahir.\n",
        "\n",
        "Pada pertemuan ini kamu akan belajar:\n",
        "\n",
        "*   Looping/Perulangan\n",
        "*   For Loop\n",
        "*   While Loop\n",
        "*   Contoh Perulangan\n",
        "*   Latihan"
      ]
    },
    {
      "cell_type": "markdown",
      "metadata": {
        "id": "CTsZve8LW3NY"
      },
      "source": [
        "##**Looping/Perulangan**\n",
        "\n",
        "Python menyediakan dua statement untuk melakukan proses perulangan yaitu for dan while. Diantara kedua\n",
        "statement ini, secara umum for lebih banyak digunakan daripada while."
      ]
    },
    {
      "cell_type": "markdown",
      "metadata": {
        "id": "a7Ob8UxZNm3j"
      },
      "source": [
        "##**For Loop**\n",
        "\n",
        "Perulangan for digunakan untuk melakukan iterasi di dalam sequence seperti list, tuple, string, dan array atau objek yang dapat diiterasi lainnya."
      ]
    },
    {
      "cell_type": "markdown",
      "metadata": {
        "id": "p6FCC4E0YIFg"
      },
      "source": [
        "####**For Loop Syntax**\n",
        "\n",
        "    for val in sequence:\n",
        "        loop body\n",
        "\n",
        "Pada proses iterasi ini, val adalah variabel yang diambil dari elemen-elemen di dalam sequence untuk setiap iterasi.\n",
        "\n",
        "Perulangan akan berlangsung hingga elemen terakhir dari sequence. Pada bagian body dari for loop diletakkan dalam indentasi."
      ]
    },
    {
      "cell_type": "markdown",
      "metadata": {
        "id": "kRzeQp2XU0n0"
      },
      "source": [
        "###**For Loop Flowchart**\n",
        "\n",
        "![forLoop.webp](data:image/webp;base64,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)"
      ]
    },
    {
      "cell_type": "markdown",
      "metadata": {
        "id": "Vzn2mwt8Y3j_"
      },
      "source": [
        "###**Example: Python for Loop**"
      ]
    },
    {
      "cell_type": "code",
      "metadata": {
        "colab": {
          "base_uri": "https://localhost:8080/"
        },
        "id": "RMK0bmzpLhNE",
        "outputId": "964a32ed-7518-4afe-8380-e1e76deb4789"
      },
      "source": [
        "# Program untuk menghitung jumlah semua angka dalam sebuah list\n",
        "\n",
        "# List angka\n",
        "list_angka = [6, 5, 3, 8, 4, 2, 5, 4, 11]\n",
        "\n",
        "# variabel untuk menyimpan hasil penjumlahan\n",
        "jumlahan = 0\n",
        "\n",
        "# iterasi di dalam list\n",
        "for angka in list_angka:\n",
        "    jumlahan = jumlahan+angka\n",
        "\n",
        "print(\"Jumlah :\", jumlahan)"
      ],
      "execution_count": null,
      "outputs": [
        {
          "output_type": "stream",
          "name": "stdout",
          "text": [
            "Jumlah : 48\n"
          ]
        }
      ]
    },
    {
      "cell_type": "markdown",
      "metadata": {
        "id": "aL9P_DDxPu0F"
      },
      "source": [
        "###**The range() function**\n",
        "\n",
        "Kita dapat membuat sebuah sequence angka menggunakan fungsi range() . range(10) akan menghasilkan sequence angka dari 0 sampai 9(10 angka).\n",
        "\n",
        "Kita juga dapat mendefinisikan nilai awal, nilai akhir dan step sizenya yaitu range(start, stp, step_size). Secara default step_size bernilai 1 jika tidak ditentukan secara khusus.\n",
        "\n",
        "Kita dapat menggunakan fungsi range() di dalam perulangan for untuk melakukan iterasi di dalam sequence numbers. Ini dapat kita kombinasikan dengan fungsi len() untuk melakukan iterasi melalui index dari sebuah sequence. Berikut contohnya:"
      ]
    },
    {
      "cell_type": "code",
      "metadata": {
        "colab": {
          "base_uri": "https://localhost:8080/"
        },
        "id": "uq3j4vXoP_WL",
        "outputId": "ca2d5105-f635-4ba8-8a5f-b76c52ea0b01"
      },
      "source": [
        "# Program untuk melakukan iterasi di dalam list melalui indeks\n",
        "\n",
        "musik = ['dangdut', 'campursari', 'keroncong']\n",
        "# iterasi di dalam list melalui indeks\n",
        "\n",
        "for i in range(len(musik)):\n",
        "    print(\"Aku suka\", musik[i])"
      ],
      "execution_count": null,
      "outputs": [
        {
          "output_type": "stream",
          "name": "stdout",
          "text": [
            "Aku suka dangdut\n",
            "Aku suka campursari\n",
            "Aku suka keroncong\n"
          ]
        }
      ]
    },
    {
      "cell_type": "markdown",
      "metadata": {
        "id": "xA3_zQyWQHAH"
      },
      "source": [
        "###**for loop with else**\n",
        "\n",
        "Sebuah for loop dapat memiliki opsi blok else. Blok else akan dijalankan jika iterasi telah selesai dilakukan dalam sebuah sequence.\n",
        "\n",
        "Keyword break digunakan untuk menghentikan iterasi. Dalam kasus itu maka bagian else diabaikan.\n",
        "\n",
        "Sehingga, bagian iterasi else hanya dijalankan jika tidak terjadi break.\n",
        "\n",
        "Berikut adalah beberapa contoh sebagai ilustrasi:"
      ]
    },
    {
      "cell_type": "code",
      "metadata": {
        "colab": {
          "base_uri": "https://localhost:8080/"
        },
        "id": "DUwZKCrvZCUy",
        "outputId": "376e77fa-4df7-44b1-ee1e-7068640d009b"
      },
      "source": [
        "digits = [0, 1, 5]\n",
        "\n",
        "for i in digits:\n",
        "   print(i)\n",
        "else:\n",
        " print(\"Tidak ada elemen yang tersisa.\")"
      ],
      "execution_count": null,
      "outputs": [
        {
          "output_type": "stream",
          "name": "stdout",
          "text": [
            "0\n",
            "1\n",
            "5\n",
            "Tidak ada elemen yang tersisa.\n"
          ]
        }
      ]
    },
    {
      "cell_type": "markdown",
      "metadata": {
        "id": "b93Zk-lhZR22"
      },
      "source": [
        "Ketika iterasi berjalan maka akan dilakukan print item hingga iterasi selesai. Ketika iterasi pada sequence selesai baru perintah pada blok else dijalankan yaitu print Tidak ada elemen yang tersisa.\n",
        "\n",
        "Statement for...else dapat digunakan bersama dengan keyword break untuk menjalankan blok else hanya ketika break tidak dieksekusi. Lihat contoh berikut:"
      ]
    },
    {
      "cell_type": "code",
      "metadata": {
        "colab": {
          "base_uri": "https://localhost:8080/"
        },
        "id": "SZT9xoDPZiXW",
        "outputId": "e6faf3e8-19bd-4392-96c5-d3513410e773"
      },
      "source": [
        "# Program untuk menampilkan nilai tugas siswa.\n",
        "nama_siswa = 'Butet'\n",
        "daftar_nilai = {'Bambang': 90, 'Andri': 55, 'Candra': 77}\n",
        "for siswa in daftar_nilai:\n",
        "    if siswa == nama_siswa:\n",
        "       print(daftar_nilai[siswa])\n",
        "       break\n",
        "else:\n",
        "     print('Tidak ada data nilai atas nama', nama_siswa, '!')"
      ],
      "execution_count": null,
      "outputs": [
        {
          "output_type": "stream",
          "name": "stdout",
          "text": [
            "Tidak ada data nilai atas nama Butet !\n"
          ]
        }
      ]
    },
    {
      "cell_type": "markdown",
      "metadata": {
        "id": "GJDZmnmNarNv"
      },
      "source": [
        "##**While Loop**\n",
        "\n",
        "While loop pada Python digunakan untuk melakukan iterasi pada blok kode selama nilai dari test expression adalah true.\n",
        "\n",
        "Looping ini biasanya digunakan ketika kita tidak tau berapa kali iterasi akan dilakukan hingga sebuah kondisi yang diinginkan dapat dicapai.\n"
      ]
    },
    {
      "cell_type": "markdown",
      "metadata": {
        "id": "qlFIf43abGeJ"
      },
      "source": [
        "####**Syntax of while Loop in Python**\n",
        "\n",
        "    while test_expression:\n",
        "        Body of while\n",
        "\n",
        "Pada loop while, test expression justru dicheck pertama kali. Kemudian statement - statement di dalam body of while akan dieksekusi jika nilai dari test expression adalah true. Setelah satu iterasi dijalankan, test expression dicek kembali. Proses ini terus berlanjut hingga nilai evaluasi dari test expression adalah False.\n",
        "\n",
        "Pada Python, bagian body pada loop while dituliskan menggunakan indentasi.\n",
        "\n",
        "Sebagai catatan tambahan bahwa Python menginterpretasikan non-zero values sebagai True. None dan 0 diinterpretasikan sebagai False.\n"
      ]
    },
    {
      "cell_type": "markdown",
      "metadata": {
        "id": "kqe69yvgbk0o"
      },
      "source": [
        "###**While Loop Flowchart**\n",
        "![whileLoopFlowchart.webp](data:image/webp;base64,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)"
      ]
    },
    {
      "cell_type": "markdown",
      "metadata": {
        "id": "IcqilNclcLuz"
      },
      "source": [
        "###**Example: Python while Loop**"
      ]
    },
    {
      "cell_type": "code",
      "metadata": {
        "colab": {
          "base_uri": "https://localhost:8080/"
        },
        "id": "FIwCVSdQcbcL",
        "outputId": "64c603e5-a8b0-47ed-9c2c-e22b83df34fb"
      },
      "source": [
        "# Program untuk menjumlahkan semua \n",
        "# bilangan asli hingga suku ke-n\n",
        "# jumlahan = 1+2+3+...+n\n",
        "n = 10\n",
        "# nilai awal penjumlahan dan iterasi\n",
        "jumlahan = 0\n",
        "i = 1\n",
        "while i <= n:\n",
        "      jumlahan = jumlahan + i\n",
        "      i = i+1 # update iterasi\n",
        "# cetak hasil penjumlahan\n",
        "print(\"jumlahan =\", jumlahan)\n"
      ],
      "execution_count": null,
      "outputs": [
        {
          "output_type": "stream",
          "name": "stdout",
          "text": [
            "jumlahan = 55\n"
          ]
        }
      ]
    },
    {
      "cell_type": "markdown",
      "metadata": {
        "id": "jeVKdIAacld3"
      },
      "source": [
        "Pada program di atas, test expression akan bernilai True selama nilai iterasi i kurang dari atau sama dengan n.\n",
        "\n",
        "Kita perlu mengupdate nilai dari variabel pencatat iterasi i agar iterasi tidak berlangsung secara terus menerus(infinity loop).\n"
      ]
    },
    {
      "cell_type": "markdown",
      "metadata": {
        "id": "rzeMFuVGcvNN"
      },
      "source": [
        "###**While loop with else**\n",
        "\n",
        "Sama dengan for loop kita juga dapat mengkombinasikan while loop dengan blok else.\n",
        "\n",
        "Bagian else akan dieksekusi jika nilai pada test expression pada pada while loop bernilai False.\n",
        "\n",
        "Perhatikan contoh berikut:"
      ]
    },
    {
      "cell_type": "code",
      "metadata": {
        "colab": {
          "base_uri": "https://localhost:8080/"
        },
        "id": "vFKziE_YdPpe",
        "outputId": "56a1a5b6-acf8-4d48-d810-1264c5416907"
      },
      "source": [
        "counter = 0\n",
        "while counter < 3:\n",
        "     print(\"Di dalam Loop\")\n",
        "     counter = counter + 1\n",
        "else:\n",
        "     print(\"Di dalam else\")"
      ],
      "execution_count": null,
      "outputs": [
        {
          "output_type": "stream",
          "name": "stdout",
          "text": [
            "Di dalam Loop\n",
            "Di dalam Loop\n",
            "Di dalam Loop\n",
            "Di dalam else\n"
          ]
        }
      ]
    },
    {
      "cell_type": "markdown",
      "metadata": {
        "id": "yvJnJnwodcGb"
      },
      "source": [
        "##**Contoh penggunaan Perulangan**\n",
        "\n",
        "**Contoh 1:**\n",
        "\n",
        "Diberikan list_tagihan . Kamu diminta untuk menghitung jumlah seluruh tagihan!. Gunakan looping for untuk menyelesaikan tugas ini! Simpan hasilnya pada variabel total_tagihan !\n",
        "\n",
        "    list_tagihan = [50000, 75000, -150000, 125000, 300000, -50000, 200000]\n"
      ]
    },
    {
      "cell_type": "code",
      "metadata": {
        "colab": {
          "base_uri": "https://localhost:8080/"
        },
        "id": "5k1uWCD1duRo",
        "outputId": "85286b04-778a-4509-d531-bc48d73271fd"
      },
      "source": [
        "list_tagihan = [50000, 75000, -150000, 125000, 300000, -50000, 200000]\n",
        "total_tagihan = 0\n",
        "for tagihan in list_tagihan: # untuk setiap tagihan dalam list_tagihan\n",
        "    total_tagihan += tagihan # tambahkan tagihan ke total_tagihan\n",
        "print(total_tagihan)"
      ],
      "execution_count": null,
      "outputs": [
        {
          "output_type": "stream",
          "name": "stdout",
          "text": [
            "550000\n"
          ]
        }
      ]
    },
    {
      "cell_type": "markdown",
      "metadata": {
        "id": "v5f9DjARdzS1"
      },
      "source": [
        "**Contoh 2:**\n",
        "\n",
        "Diberikan list_tagihan . Kamu diminta untuk menghitung jumlah seluruh tagihan!. Gunakan looping for untuk menyelesaikan tugas ini! Simpan hasilnya pada variabel total_tagihan !\n",
        "\n",
        "    list_tagihan = [50000, 75000, -150000, 125000, 300000, -50000, 200000]\n",
        "\n",
        "Perhatikan bahwa, terdapat nilai tagihan yang negatif. Hentikan perhitungan total_tagihan jika menemukan nilai negatif!"
      ]
    },
    {
      "cell_type": "code",
      "metadata": {
        "colab": {
          "base_uri": "https://localhost:8080/"
        },
        "id": "vsYJ3FJHeAes",
        "outputId": "3fd301c4-144f-4eb8-beaa-865a00e30279"
      },
      "source": [
        "list_tagihan = [50000, 75000, -150000, 125000, 300000, -50000, 200000]\n",
        "total_tagihan = 0\n",
        "for tagihan in list_tagihan:\n",
        "    if tagihan < 0:\n",
        "        print(\"terdapat angka minus dalam tagihan, perhitungan dihentikan!\")\n",
        "        break\n",
        "    total_tagihan += tagihan\n",
        "print(total_tagihan)"
      ],
      "execution_count": null,
      "outputs": [
        {
          "output_type": "stream",
          "name": "stdout",
          "text": [
            "terdapat angka minus dalam tagihan, perhitungan dihentikan!\n",
            "125000\n"
          ]
        }
      ]
    },
    {
      "cell_type": "markdown",
      "metadata": {
        "id": "xi4y58huebcp"
      },
      "source": [
        "**Contoh 3:**\n",
        "\n",
        "Diberikan list_cash_flow kamu diminta untuk melakukan penghitungan total_pemasukan dan total_pengeluaran menggunakan looping for. Untuk nilai positif berarti adalah pemasukan dan nilai negatif berarti adalah pengeluaran.\n",
        "\n",
        "    list_cash_flow = [2500000, 5000000, -1000000, -2500000, 5000000, 10000000, -5000000, 7500000, 10000000, -1500000, 25000000, -2500000]"
      ]
    },
    {
      "cell_type": "code",
      "metadata": {
        "colab": {
          "base_uri": "https://localhost:8080/"
        },
        "id": "K8A4VuKufSV5",
        "outputId": "585db2e9-6a52-4197-b899-f16dee93a503"
      },
      "source": [
        "list_cash_flow = [\n",
        "2500000, 5000000, -1000000, -2500000, 5000000, 10000000,\n",
        "-5000000, 7500000, 10000000, -1500000, 25000000, -2500000\n",
        "]\n",
        "total_pengeluaran, total_pemasukan = 0, 0\n",
        "for dana in list_cash_flow:\n",
        "    if dana > 0:\n",
        "        total_pemasukan += dana\n",
        "    else:\n",
        "        total_pengeluaran += dana\n",
        "total_pengeluaran *= -1\n",
        "print(total_pengeluaran) \n",
        "print(total_pemasukan)"
      ],
      "execution_count": null,
      "outputs": [
        {
          "output_type": "stream",
          "name": "stdout",
          "text": [
            "12500000\n",
            "65000000\n"
          ]
        }
      ]
    },
    {
      "cell_type": "markdown",
      "metadata": {
        "id": "jmn7yYcOfpuL"
      },
      "source": [
        "##**Latihan**\n",
        "\n",
        "1. Buatlah fungsi untuk menghitung diskon suatu pembayaran belanjaan dengan input berupa dictionary untuk daftar harga dan dictionary untuk daftar belanjaan!\n",
        "\n",
        "Contoh:\n",
        "\n",
        "    daftar_harga = {'telur/kg':20000, 'gula_pasir/kg':16000, 'teh/bks':4000}\n",
        "    daftar_belanjaan = {'telur':2, 'gula_pasir':5}\n",
        "\n",
        "    jumlah_bayar = pembayaran(daftar_harga, daftar_belanjaan)\n",
        "\n",
        "Output\n",
        "\n",
        "    120000"
      ]
    },
    {
      "cell_type": "code",
      "metadata": {
        "colab": {
          "base_uri": "https://localhost:8080/"
        },
        "id": "s6YMSG7UdO2w",
        "outputId": "9362a4ae-9212-42c6-9efe-826a55a79c54"
      },
      "source": [
        "daftarharga = {'telur' : 17.500, 'gulapasir' : 15000, 'teh' : 5000}\n",
        "daftarbelanjaan = {'telur' : 3, 'gulapasir' : 3, 'teh' : 5}\n",
        "\n",
        "def pembayaran(daftarharga, daftarbelanjaan):\n",
        "\n",
        "  jumlah = 0\n",
        "  for barang in daftarharga:\n",
        "    for beli in daftarbelanjaan:\n",
        "      if barang == beli:\n",
        "        jumlah += daftarharga[beli]*daftarbelanjaan[beli]\n",
        "  disc = jumlah-jumlah*0.2\n",
        "  return disc\n",
        "\n",
        "jumlahbayar = pembayaran(daftarharga, daftarbelanjaan)\n",
        "print(jumlahbayar)"
      ],
      "execution_count": null,
      "outputs": [
        {
          "output_type": "stream",
          "name": "stdout",
          "text": [
            "56042.0\n"
          ]
        }
      ]
    }
  ]
}