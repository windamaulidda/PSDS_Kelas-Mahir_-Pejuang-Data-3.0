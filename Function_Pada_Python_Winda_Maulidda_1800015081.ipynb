{
  "nbformat": 4,
  "nbformat_minor": 0,
  "metadata": {
    "colab": {
      "name": "Function Pada Python_Winda Maulidda_1800015081.ipynb",
      "provenance": [],
      "collapsed_sections": [],
      "authorship_tag": "ABX9TyNpPD5u+9rPKTdZ9Yf+EH4Q",
      "include_colab_link": true
    },
    "kernelspec": {
      "name": "python3",
      "display_name": "Python 3"
    },
    "language_info": {
      "name": "python"
    }
  },
  "cells": [
    {
      "cell_type": "markdown",
      "metadata": {
        "id": "view-in-github",
        "colab_type": "text"
      },
      "source": [
        "<a href=\"https://colab.research.google.com/github/windamaulidda/PSDS_KelasMahir_PejuangData3.0/blob/main/Function_Pada_Python_Winda_Maulidda_1800015081.ipynb\" target=\"_parent\"><img src=\"https://colab.research.google.com/assets/colab-badge.svg\" alt=\"Open In Colab\"/></a>"
      ]
    },
    {
      "cell_type": "markdown",
      "metadata": {
        "id": "ibki_-bApB9T"
      },
      "source": [
        "##**Pembukaan**"
      ]
    },
    {
      "cell_type": "markdown",
      "metadata": {
        "id": "jpajONOBpHW7"
      },
      "source": [
        "Assalamu'alaikum warahmatullahi wabarakatuh. Puji syukur kehadirat Allah Subhana Wata'ala atas limpahan Rahmat dan HidayahNya kepada kita semua. Sholawat serta salam senantiasa tercurah limpahkan kepada baginda Muhammad Rasulullah Salallahualaihiwassalam.\n",
        "\n",
        "Halo para **Pejuang Data**. Selamat berjumpa di pertemuan kedua Program Training **Algoritma Machine\n",
        "Learning** Kelas Mahir."
      ]
    },
    {
      "cell_type": "markdown",
      "metadata": {
        "id": "VEPHxWOnpO2T"
      },
      "source": [
        "####Pada pertemuan ini kamu akan belajar:\n",
        "\n",
        "\n",
        "\n",
        "\n",
        "*   Fungsi Pada Python\n",
        "* Keyword & Argument\n",
        "* Membuat Fungsi Pada Python\n",
        "* Positional Argument & Keyword\n",
        "* Argument Default\n",
        "* Contoh User Defined Function\n",
        "* Latihan\n"
      ]
    },
    {
      "cell_type": "markdown",
      "metadata": {
        "id": "upRwwEa4qNjo"
      },
      "source": [
        "##**Function**"
      ]
    },
    {
      "cell_type": "markdown",
      "metadata": {
        "id": "se9cvcIVqVML"
      },
      "source": [
        "Function adalah sebuah blok statemen yang hanya akan dijalankan saat ia dipanggil.!"
      ]
    },
    {
      "cell_type": "code",
      "metadata": {
        "colab": {
          "base_uri": "https://localhost:8080/"
        },
        "id": "X20mInTyrEFK",
        "outputId": "dc646a10-cdb9-4c6d-df20-c3225c529ef0"
      },
      "source": [
        "genap = [2,4,6,8,10]\n",
        "\n",
        "len(genap)"
      ],
      "execution_count": null,
      "outputs": [
        {
          "output_type": "execute_result",
          "data": {
            "text/plain": [
              "5"
            ]
          },
          "metadata": {},
          "execution_count": 1
        }
      ]
    },
    {
      "cell_type": "code",
      "metadata": {
        "colab": {
          "base_uri": "https://localhost:8080/"
        },
        "id": "_baBVOQWrNgj",
        "outputId": "b38f1c6a-2135-482f-fe6a-f6f2ffd66995"
      },
      "source": [
        "print('Assalamualaikum Dunia')"
      ],
      "execution_count": null,
      "outputs": [
        {
          "output_type": "stream",
          "name": "stdout",
          "text": [
            "Assalamualaikum Dunia\n"
          ]
        }
      ]
    },
    {
      "cell_type": "markdown",
      "metadata": {
        "id": "mSEtAU4mqZQi"
      },
      "source": [
        "####**Keyword & Argument!**"
      ]
    },
    {
      "cell_type": "markdown",
      "metadata": {
        "id": "wGk8cfYfrXzW"
      },
      "source": [
        "**Keyword/Parameter** : variable yang digunakan dalam deklarasi fungsi\n",
        "\n",
        "**Argument** : nilai yang diberikan saat pemanggilan fungsi"
      ]
    },
    {
      "cell_type": "code",
      "metadata": {
        "colab": {
          "base_uri": "https://localhost:8080/"
        },
        "id": "E20r0tsorfOM",
        "outputId": "bd190b85-2b5c-4f68-cdc3-9962466d3cd1"
      },
      "source": [
        "# sep = keyword/argument\n",
        "# '-' = argument\n",
        "\n",
        "print('kata1', 'kata2', sep='/')"
      ],
      "execution_count": null,
      "outputs": [
        {
          "output_type": "stream",
          "name": "stdout",
          "text": [
            "kata1/kata2\n"
          ]
        }
      ]
    },
    {
      "cell_type": "markdown",
      "metadata": {
        "id": "pO6LNc2nrp1c"
      },
      "source": [
        "####**Membuat Fungsi**"
      ]
    },
    {
      "cell_type": "markdown",
      "metadata": {
        "id": "_ogsmhJvrtta"
      },
      "source": [
        "Python mengizinkan untuk mendeklarasikan fungsi dalam kode yang dituliskan yang dikenal dengan user\n",
        "**defined function**.\n",
        "\n",
        "     def nama_fungsi(argument):\n",
        "         pernyataan_1\n",
        "         …\n",
        "         pernyataan_n\n",
        "         return nilai_keluaran"
      ]
    },
    {
      "cell_type": "code",
      "metadata": {
        "id": "jd6IIviNo3bL"
      },
      "source": [
        "# Pendefinisian fungsi_kuadrat\n",
        "def fungsi_kuadrat(x):\n",
        "    hasil = x**2\n",
        "    return hasil"
      ],
      "execution_count": null,
      "outputs": []
    },
    {
      "cell_type": "code",
      "metadata": {
        "id": "zs0styHPsH8d"
      },
      "source": [
        "# Alternatif pendefinisian fungsi_kuadrat\n",
        "def fungsi_kuadrat(x):\n",
        "     return x**2"
      ],
      "execution_count": null,
      "outputs": []
    },
    {
      "cell_type": "code",
      "metadata": {
        "colab": {
          "base_uri": "https://localhost:8080/"
        },
        "id": "3m2yOGkFsOfw",
        "outputId": "5bf85bf6-47a5-42bd-d720-25eb437eb4e4"
      },
      "source": [
        "# Pemanggilan fungsi_kuadrat\n",
        "fungsi_kuadrat(6)"
      ],
      "execution_count": null,
      "outputs": [
        {
          "output_type": "execute_result",
          "data": {
            "text/plain": [
              "36"
            ]
          },
          "metadata": {},
          "execution_count": 6
        }
      ]
    },
    {
      "cell_type": "markdown",
      "metadata": {
        "id": "WM42CCy_sTjw"
      },
      "source": [
        "####**Positional Argument & Keyword**"
      ]
    },
    {
      "cell_type": "markdown",
      "metadata": {
        "id": "7RlZSBIlsb5U"
      },
      "source": [
        "Kita bisa menyatakan argumen sebagai positional argument atau keyword. Beberapa manfaat argumen kata\n",
        "kunci dapat berupa:\n",
        "\n",
        "* Kita dapat menyebut argumen dengan nama mereka untuk memperjelas apa yang mereka wakili\n",
        "\n",
        "* Kita dapat mengatur ulang argumen dengan cara yang membuatnya paling mudah dibaca"
      ]
    },
    {
      "cell_type": "code",
      "metadata": {
        "id": "w0X2C1H6soOe"
      },
      "source": [
        "# Mendefinisikan fungsi dengan beberapa argumen\n",
        "def tampilkan_kata(a, b, c):\n",
        "    print(a, b, c)"
      ],
      "execution_count": null,
      "outputs": []
    },
    {
      "cell_type": "code",
      "metadata": {
        "colab": {
          "base_uri": "https://localhost:8080/"
        },
        "id": "ERL_H--vsuFT",
        "outputId": "1d23c3a9-d6b3-4de1-9e5f-de4bf6e9b9e3"
      },
      "source": [
        "# Positional Arguments\n",
        "\n",
        "tampilkan_kata('aku', 'kau', 'dia')"
      ],
      "execution_count": null,
      "outputs": [
        {
          "output_type": "stream",
          "name": "stdout",
          "text": [
            "aku kau dia\n"
          ]
        }
      ]
    },
    {
      "cell_type": "code",
      "metadata": {
        "colab": {
          "base_uri": "https://localhost:8080/"
        },
        "id": "l8ms8nJ2s7CG",
        "outputId": "3b26d9e2-46cc-4b35-a4a5-aa281ecfa4a9"
      },
      "source": [
        "tampilkan_kata('kau', 'aku', 'dia')"
      ],
      "execution_count": null,
      "outputs": [
        {
          "output_type": "stream",
          "name": "stdout",
          "text": [
            "kau aku dia\n"
          ]
        }
      ]
    },
    {
      "cell_type": "code",
      "metadata": {
        "colab": {
          "base_uri": "https://localhost:8080/"
        },
        "id": "npF12ZXItBC4",
        "outputId": "ca939da8-541e-4982-f102-1affb2b70453"
      },
      "source": [
        "# argumen berdasarkan keyword-nya\n",
        "tampilkan_kata(a='aku', b='kau', c='dia')\n",
        "tampilkan_kata(c='dia', b='kau', a='aku')"
      ],
      "execution_count": null,
      "outputs": [
        {
          "output_type": "stream",
          "name": "stdout",
          "text": [
            "aku kau dia\n",
            "aku kau dia\n"
          ]
        }
      ]
    },
    {
      "cell_type": "markdown",
      "metadata": {
        "id": "wiKLn5EMstKm"
      },
      "source": [
        "Catatan: jika sudah diberi kunci maka urutan tidak menjadi penting"
      ]
    },
    {
      "cell_type": "code",
      "metadata": {
        "colab": {
          "base_uri": "https://localhost:8080/"
        },
        "id": "tWnxuVCGtMG3",
        "outputId": "aa069425-2b89-4485-93c9-53491b79d410"
      },
      "source": [
        "# campuran antara argumen posisi dan argumen kata kunci\n",
        "tampilkan_kata('aku', b='kau', c='dia')"
      ],
      "execution_count": null,
      "outputs": [
        {
          "output_type": "stream",
          "name": "stdout",
          "text": [
            "aku kau dia\n"
          ]
        }
      ]
    },
    {
      "cell_type": "markdown",
      "metadata": {
        "id": "ixa9L7sptSZw"
      },
      "source": [
        "**Ini tidak diijinkan:**\n",
        "\n",
        "* Positional argument setelah keyword argument\n",
        "\n",
        "      tampilkan_kata('aku', b='kau', 'dia')\n",
        "* Terdapat dua nilai untuk satu   keyword argument yang sama\n",
        "      tampilkan_kata(1, b=2, a=3)\n"
      ]
    },
    {
      "cell_type": "markdown",
      "metadata": {
        "id": "KM7sh33Etmk9"
      },
      "source": [
        "####**Argument Default**"
      ]
    },
    {
      "cell_type": "markdown",
      "metadata": {
        "id": "DJN5KJ4Attrt"
      },
      "source": [
        "Fungsi dapat memiliki argumen default dengan nilai yang telah ditentukan sebelumnya. Argumen ini dapat\n",
        "ditinggalkan dan nilai default kemudian diteruskan ke fungsi, atau argumen dapat dirubah dengan nilai yang\n",
        "berbeda. Perhatikan bahwa argumen default harus ditentukan sebagai  **parameter terakhir** dalam suatu fungsi."
      ]
    },
    {
      "cell_type": "code",
      "metadata": {
        "colab": {
          "base_uri": "https://localhost:8080/"
        },
        "id": "khOxtl7PuAoK",
        "outputId": "4f6e4af6-aec1-4910-9a39-de1217d27cd8"
      },
      "source": [
        "# Argumen default\n",
        "def tampilkan_kata(a, b, c, d='sahabat'):\n",
        "    print(a, b, c, d)\n",
        "tampilkan_kata('aku', 'kau', 'dia')\n",
        "tampilkan_kata('aku', b='kau', c='dia', d='teman')"
      ],
      "execution_count": null,
      "outputs": [
        {
          "output_type": "stream",
          "name": "stdout",
          "text": [
            "aku kau dia sahabat\n",
            "aku kau dia teman\n"
          ]
        }
      ]
    },
    {
      "cell_type": "markdown",
      "metadata": {
        "id": "dwzSBlddt2v1"
      },
      "source": [
        "Catatan: Argumen default harus diletakkan terakhir"
      ]
    },
    {
      "cell_type": "markdown",
      "metadata": {
        "id": "v9WXFQtQuJe-"
      },
      "source": [
        "####**Contoh User Defined Function**"
      ]
    },
    {
      "cell_type": "markdown",
      "metadata": {
        "id": "Duwemi24uZRQ"
      },
      "source": [
        "**Contoh 1:**\n",
        "\n",
        "Penjumlahan 2 bilangan"
      ]
    },
    {
      "cell_type": "code",
      "metadata": {
        "colab": {
          "base_uri": "https://localhost:8080/"
        },
        "id": "nS-Hr8TduhXT",
        "outputId": "3e7678d9-34a6-4d1e-c42d-ca0682571c2d"
      },
      "source": [
        "def penjumlahan(x, y): # input\n",
        "    a=x+y              # proses\n",
        "    return a           # output\n",
        "    \n",
        "penjumlahan(1, 2)      # pemanggilan fungsi"
      ],
      "execution_count": null,
      "outputs": [
        {
          "output_type": "execute_result",
          "data": {
            "text/plain": [
              "3"
            ]
          },
          "metadata": {},
          "execution_count": 15
        }
      ]
    },
    {
      "cell_type": "markdown",
      "metadata": {
        "id": "wxqtfJOPu0tX"
      },
      "source": [
        "**Contoh 2:**\n",
        "\n",
        "Penjumlahan yang memungkinkan untuk tiga bilangan"
      ]
    },
    {
      "cell_type": "code",
      "metadata": {
        "colab": {
          "base_uri": "https://localhost:8080/"
        },
        "id": "Xxks0tSxu3kE",
        "outputId": "c45315e5-c044-47a7-b10e-330e049a8305"
      },
      "source": [
        "def penjumlahan(x,y,z=None):\n",
        "    if (z==None):\n",
        "        return x+y\n",
        "    else:\n",
        "        return x+y+z\n",
        "        \n",
        "print(penjumlahan(1, 2))\n",
        "print(penjumlahan(1, 2, 3))"
      ],
      "execution_count": null,
      "outputs": [
        {
          "output_type": "stream",
          "name": "stdout",
          "text": [
            "3\n",
            "6\n"
          ]
        }
      ]
    },
    {
      "cell_type": "markdown",
      "metadata": {
        "id": "rnxUz4uwvFF5"
      },
      "source": [
        "**Contoh 3:**\n",
        "\n",
        "Menghitung luas dan keliling persegi"
      ]
    },
    {
      "cell_type": "code",
      "metadata": {
        "colab": {
          "base_uri": "https://localhost:8080/"
        },
        "id": "L9D9LLX3vJgY",
        "outputId": "3659bafc-a954-44ef-e852-80270bd061ef"
      },
      "source": [
        "def luas_dan_keliling_presegi(s):\n",
        "    luas = s**2\n",
        "    keliling = 4*s\n",
        "    return luas, keliling\n",
        "    \n",
        "luas, keliling = luas_dan_keliling_presegi(2)\n",
        "print('luas:', luas)\n",
        "print('keliling:', keliling)"
      ],
      "execution_count": null,
      "outputs": [
        {
          "output_type": "stream",
          "name": "stdout",
          "text": [
            "luas: 4\n",
            "keliling: 8\n"
          ]
        }
      ]
    },
    {
      "cell_type": "markdown",
      "metadata": {
        "id": "51Y1NHz-vUhb"
      },
      "source": [
        "##**Latihan**"
      ]
    },
    {
      "cell_type": "markdown",
      "metadata": {
        "id": "VHs23LASvXkX"
      },
      "source": [
        "1. Buatlah sebuah fungsi untuk menghitung luas dan keliling lingkaran dengan input jari2!"
      ]
    },
    {
      "cell_type": "code",
      "metadata": {
        "id": "otdzhv0bviKx",
        "colab": {
          "base_uri": "https://localhost:8080/"
        },
        "outputId": "9f7da584-319f-4075-b4cb-fe793468c60f"
      },
      "source": [
        "def luas_dan_keliling_lingkaran(r):\n",
        "\n",
        "  jari2 = r\n",
        "  pi = 3.14\n",
        "  luas = pi*(r**2)\n",
        "  keliling = 2*pi*r\n",
        "  return luas, keliling\n",
        "\n",
        "luas, keliling = luas_dan_keliling_lingkaran(2)\n",
        "\n",
        "print('luas lingkaran:', luas)\n",
        "print('keliling lingkaran:', keliling)"
      ],
      "execution_count": 8,
      "outputs": [
        {
          "output_type": "stream",
          "name": "stdout",
          "text": [
            "luas lingkaran: 12.56\n",
            "keliling lingkaran: 12.56\n"
          ]
        }
      ]
    },
    {
      "cell_type": "markdown",
      "metadata": {
        "id": "46F8WsMMvixb"
      },
      "source": [
        "2. Buatlah sebuah fungsi untuk menggabungkan dua kata dalam bentuk string bebas menjadi satu kata tanpa\n",
        "spasi dengan huruf kecil\n",
        "\n",
        "Contoh:\n",
        "\n",
        "gabung_kata('TANGKUBAN', 'PeRaHu')\n",
        "\n",
        "Output:\n",
        "\n",
        "```python 'tangkubanperahu'"
      ]
    },
    {
      "cell_type": "code",
      "metadata": {
        "id": "Cw9lWIlGvwD5",
        "colab": {
          "base_uri": "https://localhost:8080/"
        },
        "outputId": "daf21d4f-c033-463d-bcdc-b58e2ff5c5dd"
      },
      "source": [
        "def gabung_kata(x, y):\n",
        "\n",
        "  print((x+y).lower());\n",
        "\n",
        "gabung_kata('TANGKUBAN', 'PeRaHu')"
      ],
      "execution_count": 11,
      "outputs": [
        {
          "output_type": "stream",
          "name": "stdout",
          "text": [
            "tangkubanperahu\n"
          ]
        }
      ]
    },
    {
      "cell_type": "markdown",
      "metadata": {
        "id": "svBjhz9_v0pd"
      },
      "source": [
        "3. Buatlah sebuah fungsi awal_akhir(list_input) untuk menukar elemen pertama pada sebuah list\n",
        "dengan elemen terakhir pada list yang sama!\n",
        "\n",
        "Contoh:\n",
        "\n",
        "awal_akhir([1,2,3,4])\n",
        "\n",
        "Output:\n",
        "\n",
        "```python [4,2,3,1]"
      ]
    },
    {
      "cell_type": "code",
      "metadata": {
        "id": "LUNNF-Eev6yN",
        "colab": {
          "base_uri": "https://localhost:8080/"
        },
        "outputId": "535eb0b0-242b-40bc-c290-d0a48ec9c491"
      },
      "source": [
        "def awal_akhir(list_input):\n",
        "\n",
        "  awal, *tengah, akhir = list_input\n",
        "  list_input = [akhir, *tengah, awal];\n",
        "\n",
        "  print(list_input);\n",
        "\n",
        "awal_akhir([1,2,3,4])"
      ],
      "execution_count": 15,
      "outputs": [
        {
          "output_type": "stream",
          "name": "stdout",
          "text": [
            "[4, 2, 3, 1]\n"
          ]
        }
      ]
    }
  ]
}